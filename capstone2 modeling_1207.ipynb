{
 "cells": [
  {
   "cell_type": "markdown",
   "metadata": {},
   "source": [
    "# TMDB Box office prediction Modeling"
   ]
  },
  {
   "cell_type": "markdown",
   "metadata": {},
   "source": [
    "## pipeline\n",
    "### 1. load in data and import packages\n",
    "### 2. Modeling\n",
    "    2.1 Multiple Linear regression\n",
    "    2.2 Decision Tree regression\n",
    "    2.3 Random Forest regression\n",
    "    2.4 Gradient Boosting regression\n",
    "### 3. Model evaluation and selection\n",
    "### 4. Prediction"
   ]
  },
  {
   "cell_type": "markdown",
   "metadata": {},
   "source": [
    "## 1. load in data and import packages"
   ]
  },
  {
   "cell_type": "code",
   "execution_count": 1,
   "metadata": {},
   "outputs": [],
   "source": [
    "#load python packages\n",
    "import os\n",
    "import pandas as pd\n",
    "import datetime\n",
    "import seaborn as sns\n",
    "import matplotlib.pyplot as plt\n",
    "import numpy as np\n",
    "import collections\n",
    "from wordcloud import WordCloud, STOPWORDS\n",
    "from sklearn.model_selection import train_test_split, KFold\n",
    "from sklearn.model_selection import RandomizedSearchCV, GridSearchCV, cross_val_score\n",
    "from sklearn import model_selection\n",
    "from sklearn.metrics import accuracy_score,mean_squared_error,mean_squared_error, r2_score\n",
    "from sklearn.ensemble import RandomForestRegressor, GradientBoostingRegressor\n",
    "from sklearn import linear_model, preprocessing\n",
    "import statsmodels.api as sm\n",
    "from sklearn import tree, metrics\n",
    "%matplotlib inline"
   ]
  },
  {
   "cell_type": "code",
   "execution_count": 2,
   "metadata": {},
   "outputs": [
    {
     "data": {
      "text/html": [
       "<div>\n",
       "<style scoped>\n",
       "    .dataframe tbody tr th:only-of-type {\n",
       "        vertical-align: middle;\n",
       "    }\n",
       "\n",
       "    .dataframe tbody tr th {\n",
       "        vertical-align: top;\n",
       "    }\n",
       "\n",
       "    .dataframe thead th {\n",
       "        text-align: right;\n",
       "    }\n",
       "</style>\n",
       "<table border=\"1\" class=\"dataframe\">\n",
       "  <thead>\n",
       "    <tr style=\"text-align: right;\">\n",
       "      <th></th>\n",
       "      <th>budget</th>\n",
       "      <th>popularity</th>\n",
       "      <th>runtime</th>\n",
       "      <th>revenue</th>\n",
       "      <th>genre_Drama</th>\n",
       "      <th>genre_Comedy</th>\n",
       "      <th>genre_Thriller</th>\n",
       "      <th>genre_Action</th>\n",
       "      <th>genre_Romance</th>\n",
       "      <th>genre_length</th>\n",
       "      <th>...</th>\n",
       "      <th>num_cast</th>\n",
       "      <th>genders_crew_0</th>\n",
       "      <th>genders_crew_1</th>\n",
       "      <th>genders_crew_2</th>\n",
       "      <th>num_crew</th>\n",
       "      <th>release_day</th>\n",
       "      <th>release_month</th>\n",
       "      <th>release_year</th>\n",
       "      <th>release_quarter</th>\n",
       "      <th>release_dayofweek</th>\n",
       "    </tr>\n",
       "  </thead>\n",
       "  <tbody>\n",
       "    <tr>\n",
       "      <th>0</th>\n",
       "      <td>14000000</td>\n",
       "      <td>6.575393</td>\n",
       "      <td>93.0</td>\n",
       "      <td>12314651</td>\n",
       "      <td>0</td>\n",
       "      <td>1</td>\n",
       "      <td>0</td>\n",
       "      <td>0</td>\n",
       "      <td>0</td>\n",
       "      <td>1</td>\n",
       "      <td>...</td>\n",
       "      <td>24</td>\n",
       "      <td>59</td>\n",
       "      <td>0</td>\n",
       "      <td>13</td>\n",
       "      <td>72</td>\n",
       "      <td>20</td>\n",
       "      <td>2</td>\n",
       "      <td>2015</td>\n",
       "      <td>1</td>\n",
       "      <td>4</td>\n",
       "    </tr>\n",
       "    <tr>\n",
       "      <th>1</th>\n",
       "      <td>40000000</td>\n",
       "      <td>8.248895</td>\n",
       "      <td>113.0</td>\n",
       "      <td>95149435</td>\n",
       "      <td>1</td>\n",
       "      <td>1</td>\n",
       "      <td>0</td>\n",
       "      <td>0</td>\n",
       "      <td>1</td>\n",
       "      <td>4</td>\n",
       "      <td>...</td>\n",
       "      <td>20</td>\n",
       "      <td>1</td>\n",
       "      <td>4</td>\n",
       "      <td>4</td>\n",
       "      <td>9</td>\n",
       "      <td>6</td>\n",
       "      <td>8</td>\n",
       "      <td>2004</td>\n",
       "      <td>3</td>\n",
       "      <td>4</td>\n",
       "    </tr>\n",
       "    <tr>\n",
       "      <th>2</th>\n",
       "      <td>3300000</td>\n",
       "      <td>64.299990</td>\n",
       "      <td>105.0</td>\n",
       "      <td>13092000</td>\n",
       "      <td>1</td>\n",
       "      <td>0</td>\n",
       "      <td>0</td>\n",
       "      <td>0</td>\n",
       "      <td>0</td>\n",
       "      <td>1</td>\n",
       "      <td>...</td>\n",
       "      <td>51</td>\n",
       "      <td>49</td>\n",
       "      <td>4</td>\n",
       "      <td>11</td>\n",
       "      <td>64</td>\n",
       "      <td>10</td>\n",
       "      <td>10</td>\n",
       "      <td>2014</td>\n",
       "      <td>4</td>\n",
       "      <td>4</td>\n",
       "    </tr>\n",
       "  </tbody>\n",
       "</table>\n",
       "<p>3 rows × 68 columns</p>\n",
       "</div>"
      ],
      "text/plain": [
       "     budget  popularity  runtime   revenue  genre_Drama  genre_Comedy  \\\n",
       "0  14000000    6.575393     93.0  12314651            0             1   \n",
       "1  40000000    8.248895    113.0  95149435            1             1   \n",
       "2   3300000   64.299990    105.0  13092000            1             0   \n",
       "\n",
       "   genre_Thriller  genre_Action  genre_Romance  genre_length  ...  num_cast  \\\n",
       "0               0             0              0             1  ...        24   \n",
       "1               0             0              1             4  ...        20   \n",
       "2               0             0              0             1  ...        51   \n",
       "\n",
       "   genders_crew_0  genders_crew_1  genders_crew_2  num_crew  release_day  \\\n",
       "0              59               0              13        72           20   \n",
       "1               1               4               4         9            6   \n",
       "2              49               4              11        64           10   \n",
       "\n",
       "   release_month  release_year  release_quarter  release_dayofweek  \n",
       "0              2          2015                1                  4  \n",
       "1              8          2004                3                  4  \n",
       "2             10          2014                4                  4  \n",
       "\n",
       "[3 rows x 68 columns]"
      ]
     },
     "execution_count": 2,
     "metadata": {},
     "output_type": "execute_result"
    }
   ],
   "source": [
    "file = '/Users/Sue/Documents/2020_study/springboard/capstone_project2_movie/Dataset/tmdb-box-office-prediction/1111_train_eda.csv'\n",
    "df_train = pd.read_csv(file)\n",
    "file_test = '/Users/Sue/Documents/2020_study/springboard/capstone_project2_movie/Dataset/tmdb-box-office-prediction/1111_test_eda.csv'\n",
    "df_test = pd.read_csv(file_test)\n",
    "df_train.head(3)"
   ]
  },
  {
   "cell_type": "code",
   "execution_count": 3,
   "metadata": {},
   "outputs": [
    {
     "data": {
      "text/plain": [
       "Index(['budget', 'popularity', 'runtime', 'revenue', 'genre_Drama',\n",
       "       'genre_Comedy', 'genre_Thriller', 'genre_Action', 'genre_Romance',\n",
       "       'genre_length', 'original_language_en', 'comp_Warner Bros.',\n",
       "       'comp_Universal Pictures', 'comp_Paramount Pictures',\n",
       "       'comp_Twentieth Century Fox Film Corporation', 'comp_Columbia Pictures',\n",
       "       'comp_Metro-Goldwyn-Mayer (MGM)', 'comp_New Line Cinema',\n",
       "       'comp_Touchstone Pictures', 'comp_Walt Disney Pictures',\n",
       "       'comp_Columbia Pictures Corporation', 'comp_TriStar Pictures',\n",
       "       'comp_Relativity Media', 'comp_Canal+', 'comp_United Artists',\n",
       "       'comp_Miramax Films', 'comp_Village Roadshow Pictures',\n",
       "       'comp_Regency Enterprises', 'comp_ The', 'comp_BBC Films',\n",
       "       'comp_Dune Entertainment', 'comp_Working Title Films',\n",
       "       'comp_Fox Searchlight Pictures', 'comp_StudioCanal', 'comp_Lionsgate',\n",
       "       'comp_DreamWorks SKG', 'comp_Fox 2000 Pictures',\n",
       "       'comp_Summit Entertainment', 'comp_Hollywood Pictures',\n",
       "       'comp_Orion Pictures', 'comp_Amblin Entertainment', 'comp_length',\n",
       "       'country_United States of America', 'country_United Kingdom',\n",
       "       'country_France', 'country_Germany', 'country_Canada', 'country_India',\n",
       "       'country_Italy', 'country_Australia', 'country_Japan', 'country_Spain',\n",
       "       'country_length', 'num_spoken', 'spoken_en', 'genders_cast_0',\n",
       "       'genders_cast_1', 'genders_cast_2', 'num_cast', 'genders_crew_0',\n",
       "       'genders_crew_1', 'genders_crew_2', 'num_crew', 'release_day',\n",
       "       'release_month', 'release_year', 'release_quarter',\n",
       "       'release_dayofweek'],\n",
       "      dtype='object')"
      ]
     },
     "execution_count": 3,
     "metadata": {},
     "output_type": "execute_result"
    }
   ],
   "source": [
    "df_train.columns"
   ]
  },
  {
   "cell_type": "markdown",
   "metadata": {},
   "source": [
    "# 2  Modeling"
   ]
  },
  {
   "cell_type": "code",
   "execution_count": 4,
   "metadata": {},
   "outputs": [],
   "source": [
    "X = df_train.drop(['revenue'], axis = 1)\n",
    "#y = df_train['revenue']\n",
    "y = np.log1p(df_train['revenue'])\n",
    "X_test = df_test"
   ]
  },
  {
   "cell_type": "code",
   "execution_count": 5,
   "metadata": {},
   "outputs": [],
   "source": [
    "X = sm.add_constant(X)\n",
    "X_train, X_valid, y_train, y_valid = train_test_split(X,y, test_size = 0.2)"
   ]
  },
  {
   "cell_type": "code",
   "execution_count": 6,
   "metadata": {},
   "outputs": [],
   "source": [
    "X_test = sm.add_constant(X_test)"
   ]
  },
  {
   "cell_type": "markdown",
   "metadata": {},
   "source": [
    "## 2.1 multiple linear regression\n",
    "### first model we will try to fit multiple linear regression model"
   ]
  },
  {
   "cell_type": "code",
   "execution_count": 7,
   "metadata": {},
   "outputs": [],
   "source": [
    "fstModel = sm.OLS(y_train, X_train)\n",
    "fstModelpred = fstModel.fit()"
   ]
  },
  {
   "cell_type": "code",
   "execution_count": 8,
   "metadata": {},
   "outputs": [
    {
     "data": {
      "text/html": [
       "<table class=\"simpletable\">\n",
       "<caption>OLS Regression Results</caption>\n",
       "<tr>\n",
       "  <th>Dep. Variable:</th>         <td>revenue</td>     <th>  R-squared:         </th> <td>   0.466</td> \n",
       "</tr>\n",
       "<tr>\n",
       "  <th>Model:</th>                   <td>OLS</td>       <th>  Adj. R-squared:    </th> <td>   0.443</td> \n",
       "</tr>\n",
       "<tr>\n",
       "  <th>Method:</th>             <td>Least Squares</td>  <th>  F-statistic:       </th> <td>   20.35</td> \n",
       "</tr>\n",
       "<tr>\n",
       "  <th>Date:</th>             <td>Tue, 08 Dec 2020</td> <th>  Prob (F-statistic):</th> <td>2.56e-161</td>\n",
       "</tr>\n",
       "<tr>\n",
       "  <th>Time:</th>                 <td>16:14:03</td>     <th>  Log-Likelihood:    </th> <td> -2943.1</td> \n",
       "</tr>\n",
       "<tr>\n",
       "  <th>No. Observations:</th>      <td>  1582</td>      <th>  AIC:               </th> <td>   6018.</td> \n",
       "</tr>\n",
       "<tr>\n",
       "  <th>Df Residuals:</th>          <td>  1516</td>      <th>  BIC:               </th> <td>   6372.</td> \n",
       "</tr>\n",
       "<tr>\n",
       "  <th>Df Model:</th>              <td>    65</td>      <th>                     </th>     <td> </td>    \n",
       "</tr>\n",
       "<tr>\n",
       "  <th>Covariance Type:</th>      <td>nonrobust</td>    <th>                     </th>     <td> </td>    \n",
       "</tr>\n",
       "</table>\n",
       "<table class=\"simpletable\">\n",
       "<tr>\n",
       "                       <td></td>                          <th>coef</th>     <th>std err</th>      <th>t</th>      <th>P>|t|</th>  <th>[0.025</th>    <th>0.975]</th>  \n",
       "</tr>\n",
       "<tr>\n",
       "  <th>const</th>                                       <td>   18.0772</td> <td>   10.086</td> <td>    1.792</td> <td> 0.073</td> <td>   -1.708</td> <td>   37.862</td>\n",
       "</tr>\n",
       "<tr>\n",
       "  <th>budget</th>                                      <td>  1.56e-08</td> <td>  1.4e-09</td> <td>   11.152</td> <td> 0.000</td> <td> 1.29e-08</td> <td> 1.83e-08</td>\n",
       "</tr>\n",
       "<tr>\n",
       "  <th>popularity</th>                                  <td>    0.0108</td> <td>    0.003</td> <td>    3.738</td> <td> 0.000</td> <td>    0.005</td> <td>    0.016</td>\n",
       "</tr>\n",
       "<tr>\n",
       "  <th>runtime</th>                                     <td>    0.0048</td> <td>    0.002</td> <td>    1.915</td> <td> 0.056</td> <td>   -0.000</td> <td>    0.010</td>\n",
       "</tr>\n",
       "<tr>\n",
       "  <th>genre_Drama</th>                                 <td>   -0.3371</td> <td>    0.100</td> <td>   -3.370</td> <td> 0.001</td> <td>   -0.533</td> <td>   -0.141</td>\n",
       "</tr>\n",
       "<tr>\n",
       "  <th>genre_Comedy</th>                                <td>    0.1321</td> <td>    0.108</td> <td>    1.224</td> <td> 0.221</td> <td>   -0.080</td> <td>    0.344</td>\n",
       "</tr>\n",
       "<tr>\n",
       "  <th>genre_Thriller</th>                              <td>   -0.1018</td> <td>    0.112</td> <td>   -0.912</td> <td> 0.362</td> <td>   -0.321</td> <td>    0.117</td>\n",
       "</tr>\n",
       "<tr>\n",
       "  <th>genre_Action</th>                                <td>    0.0639</td> <td>    0.114</td> <td>    0.563</td> <td> 0.573</td> <td>   -0.159</td> <td>    0.287</td>\n",
       "</tr>\n",
       "<tr>\n",
       "  <th>genre_Romance</th>                               <td>    0.2012</td> <td>    0.123</td> <td>    1.640</td> <td> 0.101</td> <td>   -0.039</td> <td>    0.442</td>\n",
       "</tr>\n",
       "<tr>\n",
       "  <th>genre_length</th>                                <td>    0.0718</td> <td>    0.049</td> <td>    1.454</td> <td> 0.146</td> <td>   -0.025</td> <td>    0.169</td>\n",
       "</tr>\n",
       "<tr>\n",
       "  <th>original_language_en</th>                        <td>   -0.4689</td> <td>    0.254</td> <td>   -1.845</td> <td> 0.065</td> <td>   -0.968</td> <td>    0.030</td>\n",
       "</tr>\n",
       "<tr>\n",
       "  <th>comp_Warner Bros.</th>                           <td>    0.7316</td> <td>    0.167</td> <td>    4.391</td> <td> 0.000</td> <td>    0.405</td> <td>    1.058</td>\n",
       "</tr>\n",
       "<tr>\n",
       "  <th>comp_Universal Pictures</th>                     <td>    0.9516</td> <td>    0.169</td> <td>    5.615</td> <td> 0.000</td> <td>    0.619</td> <td>    1.284</td>\n",
       "</tr>\n",
       "<tr>\n",
       "  <th>comp_Paramount Pictures</th>                     <td>    0.9737</td> <td>    0.182</td> <td>    5.354</td> <td> 0.000</td> <td>    0.617</td> <td>    1.330</td>\n",
       "</tr>\n",
       "<tr>\n",
       "  <th>comp_Twentieth Century Fox Film Corporation</th> <td>    0.7732</td> <td>    0.204</td> <td>    3.793</td> <td> 0.000</td> <td>    0.373</td> <td>    1.173</td>\n",
       "</tr>\n",
       "<tr>\n",
       "  <th>comp_Columbia Pictures</th>                      <td>    1.0157</td> <td>    0.210</td> <td>    4.846</td> <td> 0.000</td> <td>    0.605</td> <td>    1.427</td>\n",
       "</tr>\n",
       "<tr>\n",
       "  <th>comp_Metro-Goldwyn-Mayer (MGM)</th>              <td>   -0.1490</td> <td>    0.280</td> <td>   -0.533</td> <td> 0.594</td> <td>   -0.697</td> <td>    0.399</td>\n",
       "</tr>\n",
       "<tr>\n",
       "  <th>comp_New Line Cinema</th>                        <td>    1.0407</td> <td>    0.227</td> <td>    4.586</td> <td> 0.000</td> <td>    0.596</td> <td>    1.486</td>\n",
       "</tr>\n",
       "<tr>\n",
       "  <th>comp_Touchstone Pictures</th>                    <td>    0.4061</td> <td>    0.269</td> <td>    1.508</td> <td> 0.132</td> <td>   -0.122</td> <td>    0.934</td>\n",
       "</tr>\n",
       "<tr>\n",
       "  <th>comp_Walt Disney Pictures</th>                   <td>    1.0290</td> <td>    0.268</td> <td>    3.833</td> <td> 0.000</td> <td>    0.502</td> <td>    1.556</td>\n",
       "</tr>\n",
       "<tr>\n",
       "  <th>comp_Columbia Pictures Corporation</th>          <td>   -0.4258</td> <td>    0.325</td> <td>   -1.308</td> <td> 0.191</td> <td>   -1.064</td> <td>    0.213</td>\n",
       "</tr>\n",
       "<tr>\n",
       "  <th>comp_TriStar Pictures</th>                       <td>    0.7786</td> <td>    0.282</td> <td>    2.761</td> <td> 0.006</td> <td>    0.225</td> <td>    1.332</td>\n",
       "</tr>\n",
       "<tr>\n",
       "  <th>comp_Relativity Media</th>                       <td>    0.5772</td> <td>    0.278</td> <td>    2.073</td> <td> 0.038</td> <td>    0.031</td> <td>    1.123</td>\n",
       "</tr>\n",
       "<tr>\n",
       "  <th>comp_Canal+</th>                                 <td>    0.9159</td> <td>    0.327</td> <td>    2.805</td> <td> 0.005</td> <td>    0.275</td> <td>    1.556</td>\n",
       "</tr>\n",
       "<tr>\n",
       "  <th>comp_United Artists</th>                         <td>    0.9916</td> <td>    0.359</td> <td>    2.761</td> <td> 0.006</td> <td>    0.287</td> <td>    1.696</td>\n",
       "</tr>\n",
       "<tr>\n",
       "  <th>comp_Miramax Films</th>                          <td>    0.3887</td> <td>    0.312</td> <td>    1.245</td> <td> 0.213</td> <td>   -0.223</td> <td>    1.001</td>\n",
       "</tr>\n",
       "<tr>\n",
       "  <th>comp_Village Roadshow Pictures</th>              <td>   -0.1311</td> <td>    0.316</td> <td>   -0.414</td> <td> 0.679</td> <td>   -0.751</td> <td>    0.489</td>\n",
       "</tr>\n",
       "<tr>\n",
       "  <th>comp_Regency Enterprises</th>                    <td>    0.2959</td> <td>    0.359</td> <td>    0.823</td> <td> 0.410</td> <td>   -0.409</td> <td>    1.001</td>\n",
       "</tr>\n",
       "<tr>\n",
       "  <th>comp_ The</th>                                   <td>    0.4922</td> <td>    0.335</td> <td>    1.468</td> <td> 0.142</td> <td>   -0.165</td> <td>    1.150</td>\n",
       "</tr>\n",
       "<tr>\n",
       "  <th>comp_BBC Films</th>                              <td>    0.2608</td> <td>    0.439</td> <td>    0.595</td> <td> 0.552</td> <td>   -0.599</td> <td>    1.121</td>\n",
       "</tr>\n",
       "<tr>\n",
       "  <th>comp_Dune Entertainment</th>                     <td>    0.4692</td> <td>    0.343</td> <td>    1.370</td> <td> 0.171</td> <td>   -0.203</td> <td>    1.141</td>\n",
       "</tr>\n",
       "<tr>\n",
       "  <th>comp_Working Title Films</th>                    <td>    0.9655</td> <td>    0.471</td> <td>    2.051</td> <td> 0.040</td> <td>    0.042</td> <td>    1.889</td>\n",
       "</tr>\n",
       "<tr>\n",
       "  <th>comp_Fox Searchlight Pictures</th>               <td>    0.7990</td> <td>    0.387</td> <td>    2.065</td> <td> 0.039</td> <td>    0.040</td> <td>    1.558</td>\n",
       "</tr>\n",
       "<tr>\n",
       "  <th>comp_StudioCanal</th>                            <td>   -0.7193</td> <td>    0.411</td> <td>   -1.750</td> <td> 0.080</td> <td>   -1.526</td> <td>    0.087</td>\n",
       "</tr>\n",
       "<tr>\n",
       "  <th>comp_Lionsgate</th>                              <td>    0.2139</td> <td>    0.369</td> <td>    0.580</td> <td> 0.562</td> <td>   -0.509</td> <td>    0.937</td>\n",
       "</tr>\n",
       "<tr>\n",
       "  <th>comp_DreamWorks SKG</th>                         <td>    0.4305</td> <td>    0.340</td> <td>    1.266</td> <td> 0.206</td> <td>   -0.237</td> <td>    1.098</td>\n",
       "</tr>\n",
       "<tr>\n",
       "  <th>comp_Fox 2000 Pictures</th>                      <td>    1.1567</td> <td>    0.373</td> <td>    3.098</td> <td> 0.002</td> <td>    0.424</td> <td>    1.889</td>\n",
       "</tr>\n",
       "<tr>\n",
       "  <th>comp_Summit Entertainment</th>                   <td>    0.7690</td> <td>    0.367</td> <td>    2.096</td> <td> 0.036</td> <td>    0.049</td> <td>    1.489</td>\n",
       "</tr>\n",
       "<tr>\n",
       "  <th>comp_Hollywood Pictures</th>                     <td>   -0.1733</td> <td>    0.388</td> <td>   -0.447</td> <td> 0.655</td> <td>   -0.934</td> <td>    0.587</td>\n",
       "</tr>\n",
       "<tr>\n",
       "  <th>comp_Orion Pictures</th>                         <td>    0.4620</td> <td>    0.437</td> <td>    1.057</td> <td> 0.291</td> <td>   -0.396</td> <td>    1.320</td>\n",
       "</tr>\n",
       "<tr>\n",
       "  <th>comp_Amblin Entertainment</th>                   <td>    0.2157</td> <td>    0.411</td> <td>    0.525</td> <td> 0.600</td> <td>   -0.590</td> <td>    1.022</td>\n",
       "</tr>\n",
       "<tr>\n",
       "  <th>comp_length</th>                                 <td>   -0.0029</td> <td>    0.026</td> <td>   -0.110</td> <td> 0.912</td> <td>   -0.054</td> <td>    0.048</td>\n",
       "</tr>\n",
       "<tr>\n",
       "  <th>country_United States of America</th>            <td>    0.4403</td> <td>    0.205</td> <td>    2.146</td> <td> 0.032</td> <td>    0.038</td> <td>    0.843</td>\n",
       "</tr>\n",
       "<tr>\n",
       "  <th>country_United Kingdom</th>                      <td>    0.2039</td> <td>    0.186</td> <td>    1.096</td> <td> 0.273</td> <td>   -0.161</td> <td>    0.569</td>\n",
       "</tr>\n",
       "<tr>\n",
       "  <th>country_France</th>                              <td>   -0.0511</td> <td>    0.225</td> <td>   -0.227</td> <td> 0.820</td> <td>   -0.492</td> <td>    0.390</td>\n",
       "</tr>\n",
       "<tr>\n",
       "  <th>country_Germany</th>                             <td>   -0.0392</td> <td>    0.208</td> <td>   -0.188</td> <td> 0.851</td> <td>   -0.448</td> <td>    0.369</td>\n",
       "</tr>\n",
       "<tr>\n",
       "  <th>country_Canada</th>                              <td>    0.2067</td> <td>    0.231</td> <td>    0.896</td> <td> 0.371</td> <td>   -0.246</td> <td>    0.659</td>\n",
       "</tr>\n",
       "<tr>\n",
       "  <th>country_India</th>                               <td>    0.3813</td> <td>    0.287</td> <td>    1.328</td> <td> 0.184</td> <td>   -0.182</td> <td>    0.944</td>\n",
       "</tr>\n",
       "<tr>\n",
       "  <th>country_Italy</th>                               <td>    0.0211</td> <td>    0.310</td> <td>    0.068</td> <td> 0.946</td> <td>   -0.587</td> <td>    0.629</td>\n",
       "</tr>\n",
       "<tr>\n",
       "  <th>country_Australia</th>                           <td>   -0.0428</td> <td>    0.296</td> <td>   -0.145</td> <td> 0.885</td> <td>   -0.623</td> <td>    0.537</td>\n",
       "</tr>\n",
       "<tr>\n",
       "  <th>country_Japan</th>                               <td>    0.3217</td> <td>    0.341</td> <td>    0.943</td> <td> 0.346</td> <td>   -0.348</td> <td>    0.991</td>\n",
       "</tr>\n",
       "<tr>\n",
       "  <th>country_Spain</th>                               <td>    0.0072</td> <td>    0.354</td> <td>    0.020</td> <td> 0.984</td> <td>   -0.687</td> <td>    0.701</td>\n",
       "</tr>\n",
       "<tr>\n",
       "  <th>country_length</th>                              <td>   -0.1723</td> <td>    0.109</td> <td>   -1.584</td> <td> 0.113</td> <td>   -0.386</td> <td>    0.041</td>\n",
       "</tr>\n",
       "<tr>\n",
       "  <th>num_spoken</th>                                  <td>    0.1059</td> <td>    0.049</td> <td>    2.162</td> <td> 0.031</td> <td>    0.010</td> <td>    0.202</td>\n",
       "</tr>\n",
       "<tr>\n",
       "  <th>spoken_en</th>                                   <td>    0.1225</td> <td>    0.254</td> <td>    0.482</td> <td> 0.630</td> <td>   -0.376</td> <td>    0.621</td>\n",
       "</tr>\n",
       "<tr>\n",
       "  <th>genders_cast_0</th>                              <td>   -0.0056</td> <td>    0.005</td> <td>   -1.176</td> <td> 0.240</td> <td>   -0.015</td> <td>    0.004</td>\n",
       "</tr>\n",
       "<tr>\n",
       "  <th>genders_cast_1</th>                              <td>    0.0143</td> <td>    0.008</td> <td>    1.726</td> <td> 0.084</td> <td>   -0.002</td> <td>    0.031</td>\n",
       "</tr>\n",
       "<tr>\n",
       "  <th>genders_cast_2</th>                              <td>   -0.0007</td> <td>    0.007</td> <td>   -0.103</td> <td> 0.918</td> <td>   -0.014</td> <td>    0.012</td>\n",
       "</tr>\n",
       "<tr>\n",
       "  <th>num_cast</th>                                    <td>    0.0080</td> <td>    0.002</td> <td>    3.393</td> <td> 0.001</td> <td>    0.003</td> <td>    0.013</td>\n",
       "</tr>\n",
       "<tr>\n",
       "  <th>genders_crew_0</th>                              <td>   -0.0283</td> <td>    0.006</td> <td>   -4.939</td> <td> 0.000</td> <td>   -0.040</td> <td>   -0.017</td>\n",
       "</tr>\n",
       "<tr>\n",
       "  <th>genders_crew_1</th>                              <td>    0.0059</td> <td>    0.016</td> <td>    0.373</td> <td> 0.709</td> <td>   -0.025</td> <td>    0.037</td>\n",
       "</tr>\n",
       "<tr>\n",
       "  <th>genders_crew_2</th>                              <td>    0.0460</td> <td>    0.010</td> <td>    4.429</td> <td> 0.000</td> <td>    0.026</td> <td>    0.066</td>\n",
       "</tr>\n",
       "<tr>\n",
       "  <th>num_crew</th>                                    <td>    0.0236</td> <td>    0.005</td> <td>    5.217</td> <td> 0.000</td> <td>    0.015</td> <td>    0.033</td>\n",
       "</tr>\n",
       "<tr>\n",
       "  <th>release_day</th>                                 <td>    0.0070</td> <td>    0.005</td> <td>    1.462</td> <td> 0.144</td> <td>   -0.002</td> <td>    0.016</td>\n",
       "</tr>\n",
       "<tr>\n",
       "  <th>release_month</th>                               <td>    0.0044</td> <td>    0.049</td> <td>    0.088</td> <td> 0.930</td> <td>   -0.093</td> <td>    0.101</td>\n",
       "</tr>\n",
       "<tr>\n",
       "  <th>release_year</th>                                <td>   -0.0019</td> <td>    0.005</td> <td>   -0.386</td> <td> 0.700</td> <td>   -0.012</td> <td>    0.008</td>\n",
       "</tr>\n",
       "<tr>\n",
       "  <th>release_quarter</th>                             <td>    0.0421</td> <td>    0.152</td> <td>    0.277</td> <td> 0.782</td> <td>   -0.256</td> <td>    0.340</td>\n",
       "</tr>\n",
       "<tr>\n",
       "  <th>release_dayofweek</th>                           <td>   -0.0201</td> <td>    0.033</td> <td>   -0.610</td> <td> 0.542</td> <td>   -0.085</td> <td>    0.045</td>\n",
       "</tr>\n",
       "</table>\n",
       "<table class=\"simpletable\">\n",
       "<tr>\n",
       "  <th>Omnibus:</th>       <td>436.895</td> <th>  Durbin-Watson:     </th> <td>   1.993</td> \n",
       "</tr>\n",
       "<tr>\n",
       "  <th>Prob(Omnibus):</th> <td> 0.000</td>  <th>  Jarque-Bera (JB):  </th> <td>1426.874</td> \n",
       "</tr>\n",
       "<tr>\n",
       "  <th>Skew:</th>          <td>-1.358</td>  <th>  Prob(JB):          </th> <td>1.44e-310</td>\n",
       "</tr>\n",
       "<tr>\n",
       "  <th>Kurtosis:</th>      <td> 6.777</td>  <th>  Cond. No.          </th> <td>1.20e+22</td> \n",
       "</tr>\n",
       "</table><br/><br/>Warnings:<br/>[1] Standard Errors assume that the covariance matrix of the errors is correctly specified.<br/>[2] The smallest eigenvalue is 3.19e-26. This might indicate that there are<br/>strong multicollinearity problems or that the design matrix is singular."
      ],
      "text/plain": [
       "<class 'statsmodels.iolib.summary.Summary'>\n",
       "\"\"\"\n",
       "                            OLS Regression Results                            \n",
       "==============================================================================\n",
       "Dep. Variable:                revenue   R-squared:                       0.466\n",
       "Model:                            OLS   Adj. R-squared:                  0.443\n",
       "Method:                 Least Squares   F-statistic:                     20.35\n",
       "Date:                Tue, 08 Dec 2020   Prob (F-statistic):          2.56e-161\n",
       "Time:                        16:14:03   Log-Likelihood:                -2943.1\n",
       "No. Observations:                1582   AIC:                             6018.\n",
       "Df Residuals:                    1516   BIC:                             6372.\n",
       "Df Model:                          65                                         \n",
       "Covariance Type:            nonrobust                                         \n",
       "===============================================================================================================\n",
       "                                                  coef    std err          t      P>|t|      [0.025      0.975]\n",
       "---------------------------------------------------------------------------------------------------------------\n",
       "const                                          18.0772     10.086      1.792      0.073      -1.708      37.862\n",
       "budget                                        1.56e-08    1.4e-09     11.152      0.000    1.29e-08    1.83e-08\n",
       "popularity                                      0.0108      0.003      3.738      0.000       0.005       0.016\n",
       "runtime                                         0.0048      0.002      1.915      0.056      -0.000       0.010\n",
       "genre_Drama                                    -0.3371      0.100     -3.370      0.001      -0.533      -0.141\n",
       "genre_Comedy                                    0.1321      0.108      1.224      0.221      -0.080       0.344\n",
       "genre_Thriller                                 -0.1018      0.112     -0.912      0.362      -0.321       0.117\n",
       "genre_Action                                    0.0639      0.114      0.563      0.573      -0.159       0.287\n",
       "genre_Romance                                   0.2012      0.123      1.640      0.101      -0.039       0.442\n",
       "genre_length                                    0.0718      0.049      1.454      0.146      -0.025       0.169\n",
       "original_language_en                           -0.4689      0.254     -1.845      0.065      -0.968       0.030\n",
       "comp_Warner Bros.                               0.7316      0.167      4.391      0.000       0.405       1.058\n",
       "comp_Universal Pictures                         0.9516      0.169      5.615      0.000       0.619       1.284\n",
       "comp_Paramount Pictures                         0.9737      0.182      5.354      0.000       0.617       1.330\n",
       "comp_Twentieth Century Fox Film Corporation     0.7732      0.204      3.793      0.000       0.373       1.173\n",
       "comp_Columbia Pictures                          1.0157      0.210      4.846      0.000       0.605       1.427\n",
       "comp_Metro-Goldwyn-Mayer (MGM)                 -0.1490      0.280     -0.533      0.594      -0.697       0.399\n",
       "comp_New Line Cinema                            1.0407      0.227      4.586      0.000       0.596       1.486\n",
       "comp_Touchstone Pictures                        0.4061      0.269      1.508      0.132      -0.122       0.934\n",
       "comp_Walt Disney Pictures                       1.0290      0.268      3.833      0.000       0.502       1.556\n",
       "comp_Columbia Pictures Corporation             -0.4258      0.325     -1.308      0.191      -1.064       0.213\n",
       "comp_TriStar Pictures                           0.7786      0.282      2.761      0.006       0.225       1.332\n",
       "comp_Relativity Media                           0.5772      0.278      2.073      0.038       0.031       1.123\n",
       "comp_Canal+                                     0.9159      0.327      2.805      0.005       0.275       1.556\n",
       "comp_United Artists                             0.9916      0.359      2.761      0.006       0.287       1.696\n",
       "comp_Miramax Films                              0.3887      0.312      1.245      0.213      -0.223       1.001\n",
       "comp_Village Roadshow Pictures                 -0.1311      0.316     -0.414      0.679      -0.751       0.489\n",
       "comp_Regency Enterprises                        0.2959      0.359      0.823      0.410      -0.409       1.001\n",
       "comp_ The                                       0.4922      0.335      1.468      0.142      -0.165       1.150\n",
       "comp_BBC Films                                  0.2608      0.439      0.595      0.552      -0.599       1.121\n",
       "comp_Dune Entertainment                         0.4692      0.343      1.370      0.171      -0.203       1.141\n",
       "comp_Working Title Films                        0.9655      0.471      2.051      0.040       0.042       1.889\n",
       "comp_Fox Searchlight Pictures                   0.7990      0.387      2.065      0.039       0.040       1.558\n",
       "comp_StudioCanal                               -0.7193      0.411     -1.750      0.080      -1.526       0.087\n",
       "comp_Lionsgate                                  0.2139      0.369      0.580      0.562      -0.509       0.937\n",
       "comp_DreamWorks SKG                             0.4305      0.340      1.266      0.206      -0.237       1.098\n",
       "comp_Fox 2000 Pictures                          1.1567      0.373      3.098      0.002       0.424       1.889\n",
       "comp_Summit Entertainment                       0.7690      0.367      2.096      0.036       0.049       1.489\n",
       "comp_Hollywood Pictures                        -0.1733      0.388     -0.447      0.655      -0.934       0.587\n",
       "comp_Orion Pictures                             0.4620      0.437      1.057      0.291      -0.396       1.320\n",
       "comp_Amblin Entertainment                       0.2157      0.411      0.525      0.600      -0.590       1.022\n",
       "comp_length                                    -0.0029      0.026     -0.110      0.912      -0.054       0.048\n",
       "country_United States of America                0.4403      0.205      2.146      0.032       0.038       0.843\n",
       "country_United Kingdom                          0.2039      0.186      1.096      0.273      -0.161       0.569\n",
       "country_France                                 -0.0511      0.225     -0.227      0.820      -0.492       0.390\n",
       "country_Germany                                -0.0392      0.208     -0.188      0.851      -0.448       0.369\n",
       "country_Canada                                  0.2067      0.231      0.896      0.371      -0.246       0.659\n",
       "country_India                                   0.3813      0.287      1.328      0.184      -0.182       0.944\n",
       "country_Italy                                   0.0211      0.310      0.068      0.946      -0.587       0.629\n",
       "country_Australia                              -0.0428      0.296     -0.145      0.885      -0.623       0.537\n",
       "country_Japan                                   0.3217      0.341      0.943      0.346      -0.348       0.991\n",
       "country_Spain                                   0.0072      0.354      0.020      0.984      -0.687       0.701\n",
       "country_length                                 -0.1723      0.109     -1.584      0.113      -0.386       0.041\n",
       "num_spoken                                      0.1059      0.049      2.162      0.031       0.010       0.202\n",
       "spoken_en                                       0.1225      0.254      0.482      0.630      -0.376       0.621\n",
       "genders_cast_0                                 -0.0056      0.005     -1.176      0.240      -0.015       0.004\n",
       "genders_cast_1                                  0.0143      0.008      1.726      0.084      -0.002       0.031\n",
       "genders_cast_2                                 -0.0007      0.007     -0.103      0.918      -0.014       0.012\n",
       "num_cast                                        0.0080      0.002      3.393      0.001       0.003       0.013\n",
       "genders_crew_0                                 -0.0283      0.006     -4.939      0.000      -0.040      -0.017\n",
       "genders_crew_1                                  0.0059      0.016      0.373      0.709      -0.025       0.037\n",
       "genders_crew_2                                  0.0460      0.010      4.429      0.000       0.026       0.066\n",
       "num_crew                                        0.0236      0.005      5.217      0.000       0.015       0.033\n",
       "release_day                                     0.0070      0.005      1.462      0.144      -0.002       0.016\n",
       "release_month                                   0.0044      0.049      0.088      0.930      -0.093       0.101\n",
       "release_year                                   -0.0019      0.005     -0.386      0.700      -0.012       0.008\n",
       "release_quarter                                 0.0421      0.152      0.277      0.782      -0.256       0.340\n",
       "release_dayofweek                              -0.0201      0.033     -0.610      0.542      -0.085       0.045\n",
       "==============================================================================\n",
       "Omnibus:                      436.895   Durbin-Watson:                   1.993\n",
       "Prob(Omnibus):                  0.000   Jarque-Bera (JB):             1426.874\n",
       "Skew:                          -1.358   Prob(JB):                    1.44e-310\n",
       "Kurtosis:                       6.777   Cond. No.                     1.20e+22\n",
       "==============================================================================\n",
       "\n",
       "Warnings:\n",
       "[1] Standard Errors assume that the covariance matrix of the errors is correctly specified.\n",
       "[2] The smallest eigenvalue is 3.19e-26. This might indicate that there are\n",
       "strong multicollinearity problems or that the design matrix is singular.\n",
       "\"\"\""
      ]
     },
     "execution_count": 8,
     "metadata": {},
     "output_type": "execute_result"
    }
   ],
   "source": [
    "fstModelpred.summary()"
   ]
  },
  {
   "cell_type": "code",
   "execution_count": 9,
   "metadata": {},
   "outputs": [],
   "source": [
    "y_validpred = fstModelpred.predict(X_valid)"
   ]
  },
  {
   "cell_type": "code",
   "execution_count": 10,
   "metadata": {},
   "outputs": [
    {
     "data": {
      "text/plain": [
       "<Figure size 1728x1728 with 0 Axes>"
      ]
     },
     "execution_count": 10,
     "metadata": {},
     "output_type": "execute_result"
    },
    {
     "data": {
      "image/png": "[encoded data removed]",
      "text/plain": [
       "<Figure size 432x288 with 1 Axes>"
      ]
     },
     "metadata": {
      "needs_background": "light"
     },
     "output_type": "display_data"
    },
    {
     "data": {
      "text/plain": [
       "<Figure size 1728x1728 with 0 Axes>"
      ]
     },
     "metadata": {},
     "output_type": "display_data"
    }
   ],
   "source": [
    "plt.scatter(y_valid, y_validpred)\n",
    "plt.xlabel('revenue')\n",
    "plt.ylabel('fstModel prediction')\n",
    "plt.figure(figsize=(24,24))"
   ]
  },
  {
   "cell_type": "code",
   "execution_count": 11,
   "metadata": {},
   "outputs": [],
   "source": [
    "#use RMSE to check the model score\n",
    "def rmse(y_pred, y_orig):\n",
    "    return np.sqrt(np.mean((y_pred - y_orig)**2))"
   ]
  },
  {
   "cell_type": "code",
   "execution_count": 12,
   "metadata": {},
   "outputs": [
    {
     "data": {
      "text/plain": [
       "1.883626585078226"
      ]
     },
     "execution_count": 12,
     "metadata": {},
     "output_type": "execute_result"
    }
   ],
   "source": [
    "evaluation = pd.DataFrame()\n",
    "evaluation['actual'] = y_valid\n",
    "evaluation['multiple_linear_regression_prediction']= y_validpred\n",
    "rmse(evaluation['multiple_linear_regression_prediction'],evaluation['actual'])"
   ]
  },
  {
   "cell_type": "code",
   "execution_count": 13,
   "metadata": {},
   "outputs": [
    {
     "data": {
      "text/html": [
       "<div>\n",
       "<style scoped>\n",
       "    .dataframe tbody tr th:only-of-type {\n",
       "        vertical-align: middle;\n",
       "    }\n",
       "\n",
       "    .dataframe tbody tr th {\n",
       "        vertical-align: top;\n",
       "    }\n",
       "\n",
       "    .dataframe thead th {\n",
       "        text-align: right;\n",
       "    }\n",
       "</style>\n",
       "<table border=\"1\" class=\"dataframe\">\n",
       "  <thead>\n",
       "    <tr style=\"text-align: right;\">\n",
       "      <th></th>\n",
       "      <th>actual</th>\n",
       "      <th>multiple_linear_regression_prediction</th>\n",
       "    </tr>\n",
       "  </thead>\n",
       "  <tbody>\n",
       "    <tr>\n",
       "      <th>823</th>\n",
       "      <td>18.041048</td>\n",
       "      <td>16.013952</td>\n",
       "    </tr>\n",
       "    <tr>\n",
       "      <th>1078</th>\n",
       "      <td>18.172922</td>\n",
       "      <td>16.474647</td>\n",
       "    </tr>\n",
       "    <tr>\n",
       "      <th>1550</th>\n",
       "      <td>16.300417</td>\n",
       "      <td>15.843425</td>\n",
       "    </tr>\n",
       "    <tr>\n",
       "      <th>114</th>\n",
       "      <td>15.159291</td>\n",
       "      <td>15.341597</td>\n",
       "    </tr>\n",
       "    <tr>\n",
       "      <th>1069</th>\n",
       "      <td>16.401287</td>\n",
       "      <td>15.968013</td>\n",
       "    </tr>\n",
       "  </tbody>\n",
       "</table>\n",
       "</div>"
      ],
      "text/plain": [
       "         actual  multiple_linear_regression_prediction\n",
       "823   18.041048                              16.013952\n",
       "1078  18.172922                              16.474647\n",
       "1550  16.300417                              15.843425\n",
       "114   15.159291                              15.341597\n",
       "1069  16.401287                              15.968013"
      ]
     },
     "execution_count": 13,
     "metadata": {},
     "output_type": "execute_result"
    }
   ],
   "source": [
    "evaluation.head()"
   ]
  },
  {
   "cell_type": "markdown",
   "metadata": {},
   "source": [
    "the prediction is far from actual value. We will move forward to next model. \n",
    "\n",
    "## 2.2 Decision tree"
   ]
  },
  {
   "cell_type": "code",
   "execution_count": 14,
   "metadata": {},
   "outputs": [],
   "source": [
    "scdModel = tree.DecisionTreeRegressor()\n",
    "scdModel = scdModel.fit(X_train, y_train)\n",
    "y_scdModelpred = scdModel.predict(X_valid)"
   ]
  },
  {
   "cell_type": "code",
   "execution_count": 15,
   "metadata": {},
   "outputs": [
    {
     "data": {
      "text/plain": [
       "2.2965027432427774"
      ]
     },
     "execution_count": 15,
     "metadata": {},
     "output_type": "execute_result"
    }
   ],
   "source": [
    "evaluation['decision_tree_prediction']= y_scdModelpred\n",
    "rmse(evaluation['decision_tree_prediction'],evaluation['actual'])"
   ]
  },
  {
   "cell_type": "code",
   "execution_count": 16,
   "metadata": {},
   "outputs": [
    {
     "data": {
      "text/html": [
       "<div>\n",
       "<style scoped>\n",
       "    .dataframe tbody tr th:only-of-type {\n",
       "        vertical-align: middle;\n",
       "    }\n",
       "\n",
       "    .dataframe tbody tr th {\n",
       "        vertical-align: top;\n",
       "    }\n",
       "\n",
       "    .dataframe thead th {\n",
       "        text-align: right;\n",
       "    }\n",
       "</style>\n",
       "<table border=\"1\" class=\"dataframe\">\n",
       "  <thead>\n",
       "    <tr style=\"text-align: right;\">\n",
       "      <th></th>\n",
       "      <th>actual</th>\n",
       "      <th>multiple_linear_regression_prediction</th>\n",
       "      <th>decision_tree_prediction</th>\n",
       "    </tr>\n",
       "  </thead>\n",
       "  <tbody>\n",
       "    <tr>\n",
       "      <th>823</th>\n",
       "      <td>18.041048</td>\n",
       "      <td>16.013952</td>\n",
       "      <td>16.458443</td>\n",
       "    </tr>\n",
       "    <tr>\n",
       "      <th>1078</th>\n",
       "      <td>18.172922</td>\n",
       "      <td>16.474647</td>\n",
       "      <td>18.786826</td>\n",
       "    </tr>\n",
       "    <tr>\n",
       "      <th>1550</th>\n",
       "      <td>16.300417</td>\n",
       "      <td>15.843425</td>\n",
       "      <td>15.749474</td>\n",
       "    </tr>\n",
       "    <tr>\n",
       "      <th>114</th>\n",
       "      <td>15.159291</td>\n",
       "      <td>15.341597</td>\n",
       "      <td>14.187037</td>\n",
       "    </tr>\n",
       "    <tr>\n",
       "      <th>1069</th>\n",
       "      <td>16.401287</td>\n",
       "      <td>15.968013</td>\n",
       "      <td>12.976817</td>\n",
       "    </tr>\n",
       "    <tr>\n",
       "      <th>...</th>\n",
       "      <td>...</td>\n",
       "      <td>...</td>\n",
       "      <td>...</td>\n",
       "    </tr>\n",
       "    <tr>\n",
       "      <th>1179</th>\n",
       "      <td>17.362970</td>\n",
       "      <td>16.820105</td>\n",
       "      <td>16.732868</td>\n",
       "    </tr>\n",
       "    <tr>\n",
       "      <th>847</th>\n",
       "      <td>15.063787</td>\n",
       "      <td>18.688947</td>\n",
       "      <td>16.129405</td>\n",
       "    </tr>\n",
       "    <tr>\n",
       "      <th>1605</th>\n",
       "      <td>17.599700</td>\n",
       "      <td>18.700124</td>\n",
       "      <td>18.881065</td>\n",
       "    </tr>\n",
       "    <tr>\n",
       "      <th>299</th>\n",
       "      <td>18.957878</td>\n",
       "      <td>20.192218</td>\n",
       "      <td>16.134609</td>\n",
       "    </tr>\n",
       "    <tr>\n",
       "      <th>1766</th>\n",
       "      <td>17.526728</td>\n",
       "      <td>18.838849</td>\n",
       "      <td>17.934373</td>\n",
       "    </tr>\n",
       "  </tbody>\n",
       "</table>\n",
       "<p>396 rows × 3 columns</p>\n",
       "</div>"
      ],
      "text/plain": [
       "         actual  multiple_linear_regression_prediction  \\\n",
       "823   18.041048                              16.013952   \n",
       "1078  18.172922                              16.474647   \n",
       "1550  16.300417                              15.843425   \n",
       "114   15.159291                              15.341597   \n",
       "1069  16.401287                              15.968013   \n",
       "...         ...                                    ...   \n",
       "1179  17.362970                              16.820105   \n",
       "847   15.063787                              18.688947   \n",
       "1605  17.599700                              18.700124   \n",
       "299   18.957878                              20.192218   \n",
       "1766  17.526728                              18.838849   \n",
       "\n",
       "      decision_tree_prediction  \n",
       "823                  16.458443  \n",
       "1078                 18.786826  \n",
       "1550                 15.749474  \n",
       "114                  14.187037  \n",
       "1069                 12.976817  \n",
       "...                        ...  \n",
       "1179                 16.732868  \n",
       "847                  16.129405  \n",
       "1605                 18.881065  \n",
       "299                  16.134609  \n",
       "1766                 17.934373  \n",
       "\n",
       "[396 rows x 3 columns]"
      ]
     },
     "execution_count": 16,
     "metadata": {},
     "output_type": "execute_result"
    }
   ],
   "source": [
    "evaluation"
   ]
  },
  {
   "cell_type": "code",
   "execution_count": 17,
   "metadata": {},
   "outputs": [
    {
     "name": "stdout",
     "output_type": "stream",
     "text": [
      "Fitting 3 folds for each of 16 candidates, totalling 48 fits\n"
     ]
    },
    {
     "name": "stderr",
     "output_type": "stream",
     "text": [
      "[Parallel(n_jobs=-1)]: Using backend LokyBackend with 4 concurrent workers.\n",
      "[Parallel(n_jobs=-1)]: Done  10 tasks      | elapsed:    3.1s\n"
     ]
    },
    {
     "name": "stdout",
     "output_type": "stream",
     "text": [
      "best parameters: {'max_depth': 6, 'min_samples_leaf': 20, 'random_state': 501}\n",
      "best score: 0.4471985599357562\n"
     ]
    },
    {
     "name": "stderr",
     "output_type": "stream",
     "text": [
      "[Parallel(n_jobs=-1)]: Done  48 out of  48 | elapsed:    3.5s finished\n"
     ]
    }
   ],
   "source": [
    "# Print the best parameters found\n",
    "gridParams = {\n",
    "    \"max_depth\": [5,6,7,8],\n",
    "    \"min_samples_leaf\": [15,20,25,30],\n",
    "    'random_state' : [501]\n",
    "    }\n",
    "\n",
    "grid_search = GridSearchCV(scdModel, n_jobs=-1, param_grid=gridParams, cv = 3, verbose=5)\n",
    "grid_search.fit(X_train, y_train)\n",
    "print('best parameters:', grid_search.best_params_)\n",
    "print('best score:',grid_search.best_score_)"
   ]
  },
  {
   "cell_type": "code",
   "execution_count": 18,
   "metadata": {},
   "outputs": [],
   "source": [
    "scdModel2 = tree.DecisionTreeRegressor(max_depth = 7, min_samples_leaf = 25, random_state = 501)\n",
    "scdModel2 = scdModel2.fit(X_train, y_train)\n",
    "y_scdModelpred = scdModel2.predict(X_valid)"
   ]
  },
  {
   "cell_type": "code",
   "execution_count": 19,
   "metadata": {},
   "outputs": [
    {
     "data": {
      "text/plain": [
       "1.78541667651465"
      ]
     },
     "execution_count": 19,
     "metadata": {},
     "output_type": "execute_result"
    }
   ],
   "source": [
    "evaluation['decision_tree_prediction']= y_scdModelpred\n",
    "rmse(evaluation['decision_tree_prediction'],evaluation['actual'])"
   ]
  },
  {
   "cell_type": "markdown",
   "metadata": {},
   "source": [
    "With the best parameters, decision tree score raised from 2.19 to 1.53, but still same level as multiple linear regression model(1.67)."
   ]
  },
  {
   "cell_type": "code",
   "execution_count": 20,
   "metadata": {},
   "outputs": [
    {
     "data": {
      "text/html": [
       "<div>\n",
       "<style scoped>\n",
       "    .dataframe tbody tr th:only-of-type {\n",
       "        vertical-align: middle;\n",
       "    }\n",
       "\n",
       "    .dataframe tbody tr th {\n",
       "        vertical-align: top;\n",
       "    }\n",
       "\n",
       "    .dataframe thead th {\n",
       "        text-align: right;\n",
       "    }\n",
       "</style>\n",
       "<table border=\"1\" class=\"dataframe\">\n",
       "  <thead>\n",
       "    <tr style=\"text-align: right;\">\n",
       "      <th></th>\n",
       "      <th>actual</th>\n",
       "      <th>multiple_linear_regression_prediction</th>\n",
       "      <th>decision_tree_prediction</th>\n",
       "    </tr>\n",
       "  </thead>\n",
       "  <tbody>\n",
       "    <tr>\n",
       "      <th>823</th>\n",
       "      <td>18.041048</td>\n",
       "      <td>16.013952</td>\n",
       "      <td>17.606323</td>\n",
       "    </tr>\n",
       "    <tr>\n",
       "      <th>1078</th>\n",
       "      <td>18.172922</td>\n",
       "      <td>16.474647</td>\n",
       "      <td>17.847581</td>\n",
       "    </tr>\n",
       "    <tr>\n",
       "      <th>1550</th>\n",
       "      <td>16.300417</td>\n",
       "      <td>15.843425</td>\n",
       "      <td>16.732625</td>\n",
       "    </tr>\n",
       "    <tr>\n",
       "      <th>114</th>\n",
       "      <td>15.159291</td>\n",
       "      <td>15.341597</td>\n",
       "      <td>14.360704</td>\n",
       "    </tr>\n",
       "    <tr>\n",
       "      <th>1069</th>\n",
       "      <td>16.401287</td>\n",
       "      <td>15.968013</td>\n",
       "      <td>16.118168</td>\n",
       "    </tr>\n",
       "    <tr>\n",
       "      <th>...</th>\n",
       "      <td>...</td>\n",
       "      <td>...</td>\n",
       "      <td>...</td>\n",
       "    </tr>\n",
       "    <tr>\n",
       "      <th>1179</th>\n",
       "      <td>17.362970</td>\n",
       "      <td>16.820105</td>\n",
       "      <td>16.432892</td>\n",
       "    </tr>\n",
       "    <tr>\n",
       "      <th>847</th>\n",
       "      <td>15.063787</td>\n",
       "      <td>18.688947</td>\n",
       "      <td>17.114168</td>\n",
       "    </tr>\n",
       "    <tr>\n",
       "      <th>1605</th>\n",
       "      <td>17.599700</td>\n",
       "      <td>18.700124</td>\n",
       "      <td>18.909658</td>\n",
       "    </tr>\n",
       "    <tr>\n",
       "      <th>299</th>\n",
       "      <td>18.957878</td>\n",
       "      <td>20.192218</td>\n",
       "      <td>18.724584</td>\n",
       "    </tr>\n",
       "    <tr>\n",
       "      <th>1766</th>\n",
       "      <td>17.526728</td>\n",
       "      <td>18.838849</td>\n",
       "      <td>18.122774</td>\n",
       "    </tr>\n",
       "  </tbody>\n",
       "</table>\n",
       "<p>396 rows × 3 columns</p>\n",
       "</div>"
      ],
      "text/plain": [
       "         actual  multiple_linear_regression_prediction  \\\n",
       "823   18.041048                              16.013952   \n",
       "1078  18.172922                              16.474647   \n",
       "1550  16.300417                              15.843425   \n",
       "114   15.159291                              15.341597   \n",
       "1069  16.401287                              15.968013   \n",
       "...         ...                                    ...   \n",
       "1179  17.362970                              16.820105   \n",
       "847   15.063787                              18.688947   \n",
       "1605  17.599700                              18.700124   \n",
       "299   18.957878                              20.192218   \n",
       "1766  17.526728                              18.838849   \n",
       "\n",
       "      decision_tree_prediction  \n",
       "823                  17.606323  \n",
       "1078                 17.847581  \n",
       "1550                 16.732625  \n",
       "114                  14.360704  \n",
       "1069                 16.118168  \n",
       "...                        ...  \n",
       "1179                 16.432892  \n",
       "847                  17.114168  \n",
       "1605                 18.909658  \n",
       "299                  18.724584  \n",
       "1766                 18.122774  \n",
       "\n",
       "[396 rows x 3 columns]"
      ]
     },
     "execution_count": 20,
     "metadata": {},
     "output_type": "execute_result"
    }
   ],
   "source": [
    "evaluation"
   ]
  },
  {
   "cell_type": "markdown",
   "metadata": {},
   "source": [
    "## 2.3 Random forest\n",
    "Next model we would try is random forest regressor"
   ]
  },
  {
   "cell_type": "code",
   "execution_count": 21,
   "metadata": {},
   "outputs": [
    {
     "name": "stderr",
     "output_type": "stream",
     "text": [
      "[Parallel(n_jobs=-1)]: Using backend LokyBackend with 4 concurrent workers.\n"
     ]
    },
    {
     "name": "stdout",
     "output_type": "stream",
     "text": [
      "Fitting 3 folds for each of 24 candidates, totalling 72 fits\n"
     ]
    },
    {
     "name": "stderr",
     "output_type": "stream",
     "text": [
      "[Parallel(n_jobs=-1)]: Done  10 tasks      | elapsed:   49.9s\n",
      "/Users/Sue/opt/anaconda3/lib/python3.7/site-packages/joblib/externals/loky/process_executor.py:706: UserWarning: A worker stopped while some jobs were given to the executor. This can be caused by a too short worker timeout or by a memory leak.\n",
      "  \"timeout or by a memory leak.\", UserWarning\n",
      "[Parallel(n_jobs=-1)]: Done  64 tasks      | elapsed: 12.7min\n",
      "[Parallel(n_jobs=-1)]: Done  72 out of  72 | elapsed: 16.1min finished\n"
     ]
    },
    {
     "name": "stdout",
     "output_type": "stream",
     "text": [
      "best parameters: {'max_depth': 8, 'n_estimators': 10000}\n",
      "best score: 0.5142066696743752\n"
     ]
    }
   ],
   "source": [
    "trdModel = RandomForestRegressor()\n",
    "gridParams = {\n",
    "    \"max_depth\": [3,4,5,6,7,8],\n",
    "    \"n_estimators\": [100,1000,5000, 10000]\n",
    "    }\n",
    "\n",
    "grid_search = GridSearchCV(trdModel, n_jobs=-1, param_grid=gridParams, cv = 3, verbose=5)\n",
    "grid_search.fit(X_train, y_train)\n",
    "print('best parameters:', grid_search.best_params_)\n",
    "print('best score:',grid_search.best_score_)"
   ]
  },
  {
   "cell_type": "code",
   "execution_count": 22,
   "metadata": {},
   "outputs": [],
   "source": [
    "trdModel = RandomForestRegressor(max_depth = grid_search.best_params_['max_depth'],n_estimators = grid_search.best_params_['n_estimators'])"
   ]
  },
  {
   "cell_type": "code",
   "execution_count": 23,
   "metadata": {},
   "outputs": [
    {
     "data": {
      "text/plain": [
       "1.7022336497481725"
      ]
     },
     "execution_count": 23,
     "metadata": {},
     "output_type": "execute_result"
    }
   ],
   "source": [
    "trdModel = trdModel.fit(X_train, y_train)\n",
    "y_trdModelpred = trdModel.predict(X_valid)\n",
    "evaluation['random_forest_prediction']= y_trdModelpred\n",
    "rmse(evaluation['random_forest_prediction'],evaluation['actual'])"
   ]
  },
  {
   "cell_type": "markdown",
   "metadata": {},
   "source": [
    "random forest model improved score a bit higher."
   ]
  },
  {
   "cell_type": "code",
   "execution_count": 24,
   "metadata": {},
   "outputs": [],
   "source": [
    "#evaluation"
   ]
  },
  {
   "cell_type": "markdown",
   "metadata": {},
   "source": [
    "## 2.4 Gradient boosting regression"
   ]
  },
  {
   "cell_type": "code",
   "execution_count": 25,
   "metadata": {},
   "outputs": [],
   "source": [
    "fourModel = GradientBoostingRegressor()"
   ]
  },
  {
   "cell_type": "code",
   "execution_count": 26,
   "metadata": {},
   "outputs": [
    {
     "name": "stdout",
     "output_type": "stream",
     "text": [
      "Fitting 3 folds for each of 270 candidates, totalling 810 fits\n"
     ]
    },
    {
     "name": "stderr",
     "output_type": "stream",
     "text": [
      "[Parallel(n_jobs=-1)]: Using backend LokyBackend with 4 concurrent workers.\n",
      "[Parallel(n_jobs=-1)]: Done  10 tasks      | elapsed:   16.0s\n",
      "[Parallel(n_jobs=-1)]: Done  64 tasks      | elapsed:  4.2min\n",
      "[Parallel(n_jobs=-1)]: Done 154 tasks      | elapsed:  8.7min\n",
      "[Parallel(n_jobs=-1)]: Done 280 tasks      | elapsed: 14.0min\n",
      "[Parallel(n_jobs=-1)]: Done 442 tasks      | elapsed: 28.6min\n",
      "[Parallel(n_jobs=-1)]: Done 640 tasks      | elapsed: 48.3min\n",
      "[Parallel(n_jobs=-1)]: Done 810 out of 810 | elapsed: 70.0min finished\n"
     ]
    },
    {
     "name": "stdout",
     "output_type": "stream",
     "text": [
      "best parameters: {'learning_rate': 0.005, 'max_depth': 5, 'min_samples_leaf': 30, 'n_estimators': 1000, 'random_state': 501}\n",
      "best score: 0.5379525120370717\n"
     ]
    }
   ],
   "source": [
    "gridParams = {\n",
    "    \"max_depth\": [3,4,5,6,7,8],\n",
    "    \"learning_rate\":[0.1, 0.01, 0.005],\n",
    "    \"n_estimators\": [100, 1000, 10000],\n",
    "    \"min_samples_leaf\": [1, 15,20,25,30],\n",
    "    'random_state' : [501]\n",
    "    }\n",
    "\n",
    "grid_search = GridSearchCV(fourModel, n_jobs=-1, param_grid=gridParams, cv = 3, verbose=5)\n",
    "grid_search.fit(X_train, y_train)\n",
    "print('best parameters:', grid_search.best_params_)\n",
    "print('best score:',grid_search.best_score_)"
   ]
  },
  {
   "cell_type": "code",
   "execution_count": 27,
   "metadata": {},
   "outputs": [],
   "source": [
    "fourModel = GradientBoostingRegressor(max_depth = grid_search.best_params_['max_depth'],n_estimators = grid_search.best_params_['n_estimators'], learning_rate = 0.005, min_samples_leaf = 30)"
   ]
  },
  {
   "cell_type": "code",
   "execution_count": 28,
   "metadata": {},
   "outputs": [
    {
     "data": {
      "text/plain": [
       "1.691616793532489"
      ]
     },
     "execution_count": 28,
     "metadata": {},
     "output_type": "execute_result"
    }
   ],
   "source": [
    "fourModel = fourModel.fit(X_train, y_train)\n",
    "y_fourModelpred = fourModel.predict(X_valid)\n",
    "evaluation['gradient_boosting_prediction']= y_fourModelpred\n",
    "rmse(evaluation['gradient_boosting_prediction'],evaluation['actual'])"
   ]
  },
  {
   "cell_type": "code",
   "execution_count": 29,
   "metadata": {
    "scrolled": true
   },
   "outputs": [],
   "source": [
    "#evaluation"
   ]
  },
  {
   "cell_type": "code",
   "execution_count": 30,
   "metadata": {},
   "outputs": [],
   "source": [
    "rmse_score_df = pd.DataFrame()\n",
    "method = ['multiple_linear_regression', 'decision_tree','random_forest','gradient_boosting']\n",
    "rmse_score=[]\n",
    "for i in method:\n",
    "    rmse_score.append(rmse(evaluation[i+'_prediction'],evaluation['actual']))"
   ]
  },
  {
   "cell_type": "code",
   "execution_count": 31,
   "metadata": {},
   "outputs": [
    {
     "data": {
      "text/html": [
       "<div>\n",
       "<style scoped>\n",
       "    .dataframe tbody tr th:only-of-type {\n",
       "        vertical-align: middle;\n",
       "    }\n",
       "\n",
       "    .dataframe tbody tr th {\n",
       "        vertical-align: top;\n",
       "    }\n",
       "\n",
       "    .dataframe thead th {\n",
       "        text-align: right;\n",
       "    }\n",
       "</style>\n",
       "<table border=\"1\" class=\"dataframe\">\n",
       "  <thead>\n",
       "    <tr style=\"text-align: right;\">\n",
       "      <th></th>\n",
       "      <th>multiple_linear_regression</th>\n",
       "      <th>decision_tree</th>\n",
       "      <th>random_forest</th>\n",
       "      <th>gradient_boosting</th>\n",
       "    </tr>\n",
       "  </thead>\n",
       "  <tbody>\n",
       "    <tr>\n",
       "      <th>0</th>\n",
       "      <td>1.883627</td>\n",
       "      <td>1.785417</td>\n",
       "      <td>1.702234</td>\n",
       "      <td>1.691617</td>\n",
       "    </tr>\n",
       "  </tbody>\n",
       "</table>\n",
       "</div>"
      ],
      "text/plain": [
       "   multiple_linear_regression  decision_tree  random_forest  gradient_boosting\n",
       "0                    1.883627       1.785417       1.702234           1.691617"
      ]
     },
     "execution_count": 31,
     "metadata": {},
     "output_type": "execute_result"
    }
   ],
   "source": [
    "rmse_score_df = pd.DataFrame(rmse_score).transpose()\n",
    "rmse_score_df.columns = method\n",
    "rmse_score_df"
   ]
  },
  {
   "cell_type": "markdown",
   "metadata": {},
   "source": [
    "Four models we tested, and random forest regressor give the best RMSE score. But all decision tree, random forest and gradient boosting methods' score are in the same level.\n",
    "\n",
    "Next is to evaluate models with multiple folds of training data.\n",
    "\n",
    "## 3. Model Evaluation"
   ]
  },
  {
   "cell_type": "code",
   "execution_count": 32,
   "metadata": {},
   "outputs": [
    {
     "name": "stdout",
     "output_type": "stream",
     "text": [
      "CV mean score: 1.5220, std: 0.1219.\n"
     ]
    }
   ],
   "source": [
    "#Random forest\n",
    "n_fold = 5\n",
    "random_seed=2242\n",
    "folds = KFold(n_splits=n_fold, shuffle=True, random_state=42)\n",
    "\n",
    "prediction_rf = np.zeros(X_test.shape[0])\n",
    "scores = []\n",
    "feature_importance = pd.DataFrame()\n",
    "for fold_n, (train_index, valid_index) in enumerate(folds.split(X)):\n",
    "    X_train, X_valid = X.values[train_index], X.values[valid_index]\n",
    "    y_train, y_valid = y[train_index], y[valid_index]\n",
    "\n",
    "    model = RandomForestRegressor(max_depth = 8,n_estimators = 10000)\n",
    "    model.fit(X_train, y_train)\n",
    "            \n",
    "    y_pred_valid = model.predict(X_valid)\n",
    "    y_pred = model.predict(X_test)\n",
    "    scores.append(mean_squared_error(y_valid, y_pred_valid) ** 0.5)\n",
    "        \n",
    "    prediction_rf += y_pred    \n",
    "\n",
    "# feature importance\n",
    "    fold_importance = pd.DataFrame()\n",
    "    fold_importance[\"feature\"] = X.columns\n",
    "    fold_importance[\"importance\"] = model.feature_importances_\n",
    "    fold_importance[\"fold\"] = fold_n + 1\n",
    "    feature_importance = pd.concat([feature_importance, fold_importance], axis=0)\n",
    "\n",
    "prediction_rf /= n_fold\n",
    "    \n",
    "print('CV mean score: {0:.4f}, std: {1:.4f}.'.format(np.mean(scores), np.std(scores)))\n",
    "\n",
    "#print(prediction)"
   ]
  },
  {
   "cell_type": "code",
   "execution_count": 33,
   "metadata": {},
   "outputs": [
    {
     "data": {
      "image/png": "[encoded data removed]",
      "text/plain": [
       "<Figure size 1152x864 with 1 Axes>"
      ]
     },
     "metadata": {
      "needs_background": "light"
     },
     "output_type": "display_data"
    }
   ],
   "source": [
    "feature_importance['importance'] /= n_fold\n",
    "cols = feature_importance[[\"feature\", \"importance\"]].groupby(\"feature\").mean().sort_values(by=\"importance\", ascending=False)[:50].index\n",
    "\n",
    "best_features = feature_importance.loc[feature_importance.feature.isin(cols)]\n",
    "\n",
    "plt.figure(figsize=(16, 12));\n",
    "sns.barplot(x=\"importance\", y=\"feature\", data=best_features.sort_values(by=\"importance\", ascending=False));\n",
    "plt.title('Feature importance');"
   ]
  },
  {
   "cell_type": "code",
   "execution_count": 34,
   "metadata": {},
   "outputs": [
    {
     "name": "stdout",
     "output_type": "stream",
     "text": [
      "CV mean score: 1.4839, std: 0.0995.\n"
     ]
    }
   ],
   "source": [
    "#gradient boosting regression\n",
    "n_fold = 5\n",
    "random_seed=2242\n",
    "folds = KFold(n_splits=n_fold, shuffle=True, random_state=42)\n",
    "\n",
    "prediction_gdb = np.zeros(X_test.shape[0])\n",
    "scores = []\n",
    "feature_importance = pd.DataFrame()\n",
    "for fold_n, (train_index, valid_index) in enumerate(folds.split(X)):\n",
    "    X_train, X_valid = X.values[train_index], X.values[valid_index]\n",
    "    y_train, y_valid = y[train_index], y[valid_index]\n",
    "\n",
    "    model = GradientBoostingRegressor(max_depth = 5,n_estimators = 1000, learning_rate = 0.005, min_samples_leaf = 30)\n",
    "    model.fit(X_train, y_train)\n",
    "            \n",
    "    y_pred_valid = model.predict(X_valid)\n",
    "    y_pred = model.predict(X_test)\n",
    "    scores.append(mean_squared_error(y_valid, y_pred_valid) ** 0.5)\n",
    "        \n",
    "    prediction_gdb += y_pred    \n",
    "\n",
    "prediction_gdb /= n_fold\n",
    "    \n",
    "print('CV mean score: {0:.4f}, std: {1:.4f}.'.format(np.mean(scores), np.std(scores)))\n",
    "\n",
    "#print(prediction)"
   ]
  },
  {
   "cell_type": "code",
   "execution_count": 35,
   "metadata": {},
   "outputs": [
    {
     "name": "stdout",
     "output_type": "stream",
     "text": [
      "CV mean score: 2.2530, std: 0.0931.\n"
     ]
    }
   ],
   "source": [
    "#Desicion tree\n",
    "n_fold = 5\n",
    "random_seed=2242\n",
    "folds = KFold(n_splits=n_fold, shuffle=True, random_state=42)\n",
    "\n",
    "prediction_tree = np.zeros(X_test.shape[0])\n",
    "scores = []\n",
    "feature_importance = pd.DataFrame()\n",
    "for fold_n, (train_index, valid_index) in enumerate(folds.split(X)):\n",
    "    X_train, X_valid = X.values[train_index], X.values[valid_index]\n",
    "    y_train, y_valid = y[train_index], y[valid_index]\n",
    "\n",
    "    model = tree.DecisionTreeRegressor()\n",
    "    model.fit(X_train, y_train)\n",
    "            \n",
    "    y_pred_valid = model.predict(X_valid)\n",
    "    y_pred = model.predict(X_test)\n",
    "    scores.append(mean_squared_error(y_valid, y_pred_valid) ** 0.5)\n",
    "        \n",
    "    prediction_tree += y_pred    \n",
    "\n",
    "prediction_tree /= n_fold\n",
    "    \n",
    "print('CV mean score: {0:.4f}, std: {1:.4f}.'.format(np.mean(scores), np.std(scores)))\n",
    "\n",
    "#print(prediction)\n"
   ]
  },
  {
   "cell_type": "code",
   "execution_count": 36,
   "metadata": {},
   "outputs": [
    {
     "data": {
      "text/html": [
       "<div>\n",
       "<style scoped>\n",
       "    .dataframe tbody tr th:only-of-type {\n",
       "        vertical-align: middle;\n",
       "    }\n",
       "\n",
       "    .dataframe tbody tr th {\n",
       "        vertical-align: top;\n",
       "    }\n",
       "\n",
       "    .dataframe thead th {\n",
       "        text-align: right;\n",
       "    }\n",
       "</style>\n",
       "<table border=\"1\" class=\"dataframe\">\n",
       "  <thead>\n",
       "    <tr style=\"text-align: right;\">\n",
       "      <th></th>\n",
       "      <th>multiple_linear_regression</th>\n",
       "      <th>decision_tree</th>\n",
       "      <th>random_forest</th>\n",
       "      <th>gradient_boosting</th>\n",
       "    </tr>\n",
       "  </thead>\n",
       "  <tbody>\n",
       "    <tr>\n",
       "      <th>0</th>\n",
       "      <td>NaN</td>\n",
       "      <td>2.2365</td>\n",
       "      <td>1.4839</td>\n",
       "      <td>1.5222</td>\n",
       "    </tr>\n",
       "  </tbody>\n",
       "</table>\n",
       "</div>"
      ],
      "text/plain": [
       "   multiple_linear_regression  decision_tree  random_forest  gradient_boosting\n",
       "0                         NaN         2.2365         1.4839             1.5222"
      ]
     },
     "execution_count": 36,
     "metadata": {},
     "output_type": "execute_result"
    }
   ],
   "source": [
    "cv_score = [np.NAN, 2.2365, 1.4839, 1.5222]\n",
    "cv_score_df = pd.DataFrame(cv_score).transpose()\n",
    "cv_score_df.columns = method\n",
    "cv_score_df"
   ]
  },
  {
   "cell_type": "markdown",
   "metadata": {},
   "source": [
    "Based on cv score, we finally pick gradient boosting regression as final model."
   ]
  },
  {
   "cell_type": "markdown",
   "metadata": {},
   "source": [
    "## 4. Prediction"
   ]
  },
  {
   "cell_type": "code",
   "execution_count": 37,
   "metadata": {},
   "outputs": [],
   "source": [
    "sub = pd.DataFrame()\n",
    "sub['revenue'] = np.expm1(prediction_gdb)\n",
    "sub.to_csv(\"/Users/Sue/Documents/2020_study/springboard/capstone_project2_movie/Dataset/tmdb-box-office-prediction/gdb.csv\", index=False)"
   ]
  },
  {
   "cell_type": "code",
   "execution_count": 38,
   "metadata": {},
   "outputs": [
    {
     "data": {
      "text/html": [
       "<div>\n",
       "<style scoped>\n",
       "    .dataframe tbody tr th:only-of-type {\n",
       "        vertical-align: middle;\n",
       "    }\n",
       "\n",
       "    .dataframe tbody tr th {\n",
       "        vertical-align: top;\n",
       "    }\n",
       "\n",
       "    .dataframe thead th {\n",
       "        text-align: right;\n",
       "    }\n",
       "</style>\n",
       "<table border=\"1\" class=\"dataframe\">\n",
       "  <thead>\n",
       "    <tr style=\"text-align: right;\">\n",
       "      <th></th>\n",
       "      <th>revenue</th>\n",
       "    </tr>\n",
       "  </thead>\n",
       "  <tbody>\n",
       "    <tr>\n",
       "      <th>0</th>\n",
       "      <td>5.626292e+06</td>\n",
       "    </tr>\n",
       "    <tr>\n",
       "      <th>1</th>\n",
       "      <td>4.285431e+07</td>\n",
       "    </tr>\n",
       "    <tr>\n",
       "      <th>2</th>\n",
       "      <td>1.928663e+07</td>\n",
       "    </tr>\n",
       "    <tr>\n",
       "      <th>3</th>\n",
       "      <td>2.139196e+08</td>\n",
       "    </tr>\n",
       "    <tr>\n",
       "      <th>4</th>\n",
       "      <td>1.916997e+05</td>\n",
       "    </tr>\n",
       "    <tr>\n",
       "      <th>...</th>\n",
       "      <td>...</td>\n",
       "    </tr>\n",
       "    <tr>\n",
       "      <th>2878</th>\n",
       "      <td>7.168120e+08</td>\n",
       "    </tr>\n",
       "    <tr>\n",
       "      <th>2879</th>\n",
       "      <td>4.412183e+07</td>\n",
       "    </tr>\n",
       "    <tr>\n",
       "      <th>2880</th>\n",
       "      <td>4.968635e+07</td>\n",
       "    </tr>\n",
       "    <tr>\n",
       "      <th>2881</th>\n",
       "      <td>3.796108e+07</td>\n",
       "    </tr>\n",
       "    <tr>\n",
       "      <th>2882</th>\n",
       "      <td>3.003353e+06</td>\n",
       "    </tr>\n",
       "  </tbody>\n",
       "</table>\n",
       "<p>2883 rows × 1 columns</p>\n",
       "</div>"
      ],
      "text/plain": [
       "           revenue\n",
       "0     5.626292e+06\n",
       "1     4.285431e+07\n",
       "2     1.928663e+07\n",
       "3     2.139196e+08\n",
       "4     1.916997e+05\n",
       "...            ...\n",
       "2878  7.168120e+08\n",
       "2879  4.412183e+07\n",
       "2880  4.968635e+07\n",
       "2881  3.796108e+07\n",
       "2882  3.003353e+06\n",
       "\n",
       "[2883 rows x 1 columns]"
      ]
     },
     "execution_count": 38,
     "metadata": {},
     "output_type": "execute_result"
    }
   ],
   "source": [
    "sub"
   ]
  },
  {
   "cell_type": "code",
   "execution_count": null,
   "metadata": {},
   "outputs": [],
   "source": []
  }
 ],
 "metadata": {
  "kernelspec": {
   "display_name": "Python 3",
   "language": "python",
   "name": "python3"
  },
  "language_info": {
   "codemirror_mode": {
    "name": "ipython",
    "version": 3
   },
   "file_extension": ".py",
   "mimetype": "text/x-python",
   "name": "python",
   "nbconvert_exporter": "python",
   "pygments_lexer": "ipython3",
   "version": "3.7.6"
  }
 },
 "nbformat": 4,
 "nbformat_minor": 4
}
