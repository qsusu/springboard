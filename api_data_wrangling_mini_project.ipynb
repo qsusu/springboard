{
 "cells": [
  {
   "cell_type": "markdown",
   "metadata": {},
   "source": [
    "This exercise will require you to pull some data from the Qunadl API. Qaundl is currently the most widely used aggregator of financial market data."
   ]
  },
  {
   "cell_type": "markdown",
   "metadata": {},
   "source": [
    "As a first step, you will need to register a free account on the http://www.quandl.com website."
   ]
  },
  {
   "cell_type": "markdown",
   "metadata": {},
   "source": [
    "After you register, you will be provided with a unique API key, that you should store:"
   ]
  },
  {
   "cell_type": "code",
   "execution_count": 1,
   "metadata": {},
   "outputs": [],
   "source": [
    "# Store the API key as a string - according to PEP8, constants are always named in all upper case\n",
    "API_KEY = '2RGtzdZ6EwaFBwpyX1Ar'"
   ]
  },
  {
   "cell_type": "markdown",
   "metadata": {},
   "source": [
    "Qaundl has a large number of data sources, but, unfortunately, most of them require a Premium subscription. Still, there are also a good number of free datasets."
   ]
  },
  {
   "cell_type": "markdown",
   "metadata": {},
   "source": [
    "For this mini project, we will focus on equities data from the Frankfurt Stock Exhange (FSE), which is available for free. We'll try and analyze the stock prices of a company called Carl Zeiss Meditec, which manufactures tools for eye examinations, as well as medical lasers for laser eye surgery: https://www.zeiss.com/meditec/int/home.html. The company is listed under the stock ticker AFX_X."
   ]
  },
  {
   "cell_type": "markdown",
   "metadata": {},
   "source": [
    "You can find the detailed Quandl API instructions here: https://docs.quandl.com/docs/time-series"
   ]
  },
  {
   "cell_type": "markdown",
   "metadata": {},
   "source": [
    "While there is a dedicated Python package for connecting to the Quandl API, we would prefer that you use the *requests* package, which can be easily downloaded using *pip* or *conda*. You can find the documentation for the package here: http://docs.python-requests.org/en/master/ "
   ]
  },
  {
   "cell_type": "markdown",
   "metadata": {},
   "source": [
    "Finally, apart from the *requests* package, you are encouraged to not use any third party Python packages, such as *pandas*, and instead focus on what's available in the Python Standard Library (the *collections* module might come in handy: https://pymotw.com/3/collections/ ).\n",
    "Also, since you won't have access to DataFrames, you are encouraged to us Python's native data structures - preferably dictionaries, though some questions can also be answered using lists.\n",
    "You can read more on these data structures here: https://docs.python.org/3/tutorial/datastructures.html"
   ]
  },
  {
   "cell_type": "markdown",
   "metadata": {},
   "source": [
    "Keep in mind that the JSON responses you will be getting from the API map almost one-to-one to Python's dictionaries. Unfortunately, they can be very nested, so make sure you read up on indexing dictionaries in the documentation provided above."
   ]
  },
  {
   "cell_type": "code",
   "execution_count": 2,
   "metadata": {},
   "outputs": [],
   "source": [
    "# First, import the relevant modules\n",
    "import requests\n",
    "import collections \n",
    "import pandas as pd\n",
    "import matplotlib.pyplot as plt\n",
    "from datetime import datetime \n",
    "import numpy as np"
   ]
  },
  {
   "cell_type": "code",
   "execution_count": 3,
   "metadata": {},
   "outputs": [
    {
     "name": "stdout",
     "output_type": "stream",
     "text": [
      "['2020-07-15', 90.0, 91.7, 86.3, 91.7, None, 258220.0, 23077220.7, None, None, None]\n"
     ]
    }
   ],
   "source": [
    "# Now, call the Quandl API and pull out a small sample of the data (only one day) to get a glimpse\n",
    "# into the JSON structure that will be returned\n",
    "#url = 'https://www.quandl.com/data/FSE/AFX_X-Carl-Zeiss-Meditec-AFX_X'\n",
    "url = 'https://www.quandl.com/api/v3/datasets/FSE/AFX_X.json?api_key=2RGtzdZ6EwaFBwpyX1Ar'\n",
    "res = requests.get(url)\n",
    "json_data = res.json()\n",
    "print(json_data['dataset']['data'][0])"
   ]
  },
  {
   "cell_type": "code",
   "execution_count": 4,
   "metadata": {},
   "outputs": [],
   "source": [
    "# Inspect the JSON structure of the object you created, and take note of how nested it is,\n",
    "# as well as the overall structure\n",
    "#print(json_data)"
   ]
  },
  {
   "cell_type": "code",
   "execution_count": 5,
   "metadata": {},
   "outputs": [
    {
     "name": "stdout",
     "output_type": "stream",
     "text": [
      "<class 'dict'>\n"
     ]
    }
   ],
   "source": [
    "#within dictionary.key dataset, there is sub-dictionary\n",
    "print(type(json_data))"
   ]
  },
  {
   "cell_type": "markdown",
   "metadata": {},
   "source": [
    "These are your tasks for this mini project:\n",
    "\n",
    "1. Collect data from the Franfurt Stock Exchange, for the ticker AFX_X, for the whole year 2017 (keep in mind that the date format is YYYY-MM-DD).\n",
    "2. Convert the returned JSON object into a Python dictionary.\n",
    "3. Calculate what the highest and lowest opening prices were for the stock in this period.\n",
    "4. What was the largest change in any one day (based on High and Low price)?\n",
    "5. What was the largest change between any two days (based on Closing Price)?\n",
    "6. What was the average daily trading volume during this year?\n",
    "7. (Optional) What was the median trading volume during this year. (Note: you may need to implement your own function for calculating the median.)"
   ]
  },
  {
   "cell_type": "code",
   "execution_count": 6,
   "metadata": {},
   "outputs": [],
   "source": [
    "stock_data = json_data['dataset']['data']\n",
    "stock_data_dict = collections.defaultdict(list)\n",
    "for i in range(len(stock_data)):\n",
    "    key = stock_data[i][0]\n",
    "    stock_data_dict[datetime.strptime(key,'%Y-%m-%d').date()].append(tuple(stock_data[i][1:]))"
   ]
  },
  {
   "cell_type": "code",
   "execution_count": 7,
   "metadata": {},
   "outputs": [],
   "source": [
    "stock_2017 = collections.defaultdict(list)\n",
    "year_2017 = pd.date_range(start = '2017-01-01', end = '2017-12-31',freq = 'D').to_pydatetime()#.tolist()\n",
    "for d in year_2017:\n",
    "    date_2017 = datetime.date(d)\n",
    "    if len(stock_data_dict[date_2017]):\n",
    "        stock_2017[date_2017].append(stock_data_dict[date_2017][0])"
   ]
  },
  {
   "cell_type": "code",
   "execution_count": 8,
   "metadata": {},
   "outputs": [
    {
     "name": "stdout",
     "output_type": "stream",
     "text": [
      "highest opening price: (53.11, datetime.date(2017, 12, 14))\n",
      "lowest opening price: (34.0, datetime.date(2017, 1, 24))\n"
     ]
    }
   ],
   "source": [
    "#Calculate what the highest and lowest opening prices were for the stock in this period.\n",
    "open_price = []\n",
    "for key, value in stock_2017.items():\n",
    "    if value[0][0] is not None:\n",
    "        open_price.append((value[0][0], key))\n",
    "print('highest opening price:',max(open_price))\n",
    "print('lowest opening price:',min(open_price))"
   ]
  },
  {
   "cell_type": "code",
   "execution_count": 9,
   "metadata": {},
   "outputs": [],
   "source": [
    "#alternative\n",
    "#Calculate what the highest and lowest opening prices were for the stock in this period.\n",
    "keys = stock_2017.keys()\n",
    "x = list(keys)\n",
    "y_open = [stock_2017[key][0][0] for key in sorted(keys)]"
   ]
  },
  {
   "cell_type": "code",
   "execution_count": 10,
   "metadata": {},
   "outputs": [
    {
     "data": {
      "text/plain": [
       "[<matplotlib.lines.Line2D at 0x1188f8610>]"
      ]
     },
     "execution_count": 10,
     "metadata": {},
     "output_type": "execute_result"
    },
    {
     "data": {
      "image/png": "[encoded data removed]",
      "text/plain": [
       "<Figure size 432x288 with 1 Axes>"
      ]
     },
     "metadata": {
      "needs_background": "light"
     },
     "output_type": "display_data"
    }
   ],
   "source": [
    "plt.plot(x,y_open)"
   ]
  },
  {
   "cell_type": "code",
   "execution_count": 11,
   "metadata": {},
   "outputs": [
    {
     "name": "stdout",
     "output_type": "stream",
     "text": [
      "largest price change: (2.8100000000000023, datetime.date(2017, 5, 11))\n"
     ]
    }
   ],
   "source": [
    "#What was the largest change in any one day (based on High and Low price)?\n",
    "change_price = []\n",
    "for key, value in stock_2017.items():\n",
    "    dif = value[0][1]-value[0][2]\n",
    "    if dif is not None:\n",
    "        change_price.append((dif, key))\n",
    "print('largest price change:',max(change_price))\n",
    "#y_largestchange = [stock_2017[key][0][0][1]-stock_2017[key][0][0][2] for key in sorted(keys)]\n",
    "#print(max(y_largestchange))"
   ]
  },
  {
   "cell_type": "code",
   "execution_count": 12,
   "metadata": {},
   "outputs": [
    {
     "name": "stdout",
     "output_type": "stream",
     "text": [
      "largest change between two days: 1.7199999999999989\n"
     ]
    }
   ],
   "source": [
    "#What was the largest change between any two days (based on Closing Price)?\n",
    "close_price = []\n",
    "for key, value in stock_2017.items():\n",
    "    if value[0][3] is not None:\n",
    "        close_price.append([value[0][3], key])\n",
    "dif = [y[0] - x[0] for x,y in zip(close_price,close_price[1:])]\n",
    "print('largest change between two days:', max(dif))"
   ]
  },
  {
   "cell_type": "code",
   "execution_count": 13,
   "metadata": {},
   "outputs": [
    {
     "name": "stdout",
     "output_type": "stream",
     "text": [
      "average daily trading volume: 89124.33725490196\n"
     ]
    }
   ],
   "source": [
    "#What was the average daily trading volume during this year?\n",
    "trade_volume = []\n",
    "trade_sum = 0\n",
    "for key, value in stock_2017.items():\n",
    "    if value[0][5] is not None:\n",
    "        trade_volume.append((value[0][5], key))\n",
    "        trade_sum += value[0][5]\n",
    "print('average daily trading volume:',trade_sum/len(trade_volume))\n",
    "#y_trade_volume = [stock_2017[key][0][0][5] for key in sorted(keys)]\n",
    "#print(sum(y_trade_volume)/len(y_trade_volume))"
   ]
  },
  {
   "cell_type": "code",
   "execution_count": null,
   "metadata": {},
   "outputs": [],
   "source": [
    "#Summary\n",
    "#3. Calculate what the highest and lowest opening prices were for the stock in this period.\n",
    "#highest opening price: 53.11, on 2017/12/14\n",
    "#lowest opening price: 34.0, on 2017/01/24\n",
    "#4. What was the largest change in any one day (based on High and Low price)?\n",
    "#The largest change is 2.8100000000000023, on 2017/05/11\n",
    "#5. What was the largest change between any two days (based on Closing Price)?\n",
    "#The largest change between two days is 1.72\n",
    "#6. What was the average daily trading volume during this year?\n",
    "#The average daily trading volume is 89124.33725490196"
   ]
  }
 ],
 "metadata": {
  "kernelspec": {
   "display_name": "Python 3",
   "language": "python",
   "name": "python3"
  },
  "language_info": {
   "codemirror_mode": {
    "name": "ipython",
    "version": 3
   },
   "file_extension": ".py",
   "mimetype": "text/x-python",
   "name": "python",
   "nbconvert_exporter": "python",
   "pygments_lexer": "ipython3",
   "version": "3.7.6"
  }
 },
 "nbformat": 4,
 "nbformat_minor": 2
}
