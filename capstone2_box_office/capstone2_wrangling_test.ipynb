{
 "cells": [
  {
   "cell_type": "code",
   "execution_count": 5,
   "metadata": {},
   "outputs": [],
   "source": [
    "#load python packages\n",
    "import os\n",
    "import pandas as pd\n",
    "import datetime\n",
    "import seaborn as sns\n",
    "import matplotlib.pyplot as plt\n",
    "import numpy as np\n",
    "from wordcloud import WordCloud, STOPWORDS\n",
    "%matplotlib inline"
   ]
  },
  {
   "cell_type": "markdown",
   "metadata": {},
   "source": [
    "# Data Read in and Organization"
   ]
  },
  {
   "cell_type": "code",
   "execution_count": 6,
   "metadata": {},
   "outputs": [
    {
     "data": {
      "text/plain": [
       "'/Users/Sue/Documents/2020_study/springboard/capstone_project2_movie'"
      ]
     },
     "execution_count": 6,
     "metadata": {},
     "output_type": "execute_result"
    }
   ],
   "source": [
    "#get current work directory\n",
    "os.getcwd()"
   ]
  },
  {
   "cell_type": "code",
   "execution_count": 7,
   "metadata": {},
   "outputs": [
    {
     "name": "stdout",
     "output_type": "stream",
     "text": [
      "     id                              belongs_to_collection   budget  \\\n",
      "0  3001  [{'id': 34055, 'name': 'Pokémon Collection', '...        0   \n",
      "1  3002                                                NaN    88000   \n",
      "2  3003                                                NaN        0   \n",
      "3  3004                                                NaN  6800000   \n",
      "4  3005                                                NaN  2000000   \n",
      "\n",
      "                                              genres  \\\n",
      "0  [{'id': 12, 'name': 'Adventure'}, {'id': 16, '...   \n",
      "1  [{'id': 27, 'name': 'Horror'}, {'id': 878, 'na...   \n",
      "2  [{'id': 35, 'name': 'Comedy'}, {'id': 10749, '...   \n",
      "3  [{'id': 18, 'name': 'Drama'}, {'id': 10752, 'n...   \n",
      "4  [{'id': 36, 'name': 'History'}, {'id': 99, 'na...   \n",
      "\n",
      "                                            homepage    imdb_id  \\\n",
      "0  http://www.pokemon.com/us/movies/movie-pokemon...  tt1226251   \n",
      "1                                                NaN  tt0051380   \n",
      "2                                                NaN  tt0118556   \n",
      "3             http://www.sonyclassics.com/incendies/  tt1255953   \n",
      "4                                                NaN  tt0418753   \n",
      "\n",
      "  original_language               original_title  \\\n",
      "0                ja           ディアルガVSパルキアVSダークライ   \n",
      "1                en  Attack of the 50 Foot Woman   \n",
      "2                en             Addicted to Love   \n",
      "3                fr                    Incendies   \n",
      "4                en           Inside Deep Throat   \n",
      "\n",
      "                                            overview  popularity  ...  \\\n",
      "0  Ash and friends (this time accompanied by newc...    3.851534  ...   \n",
      "1  When an abused wife grows to giant size becaus...    3.559789  ...   \n",
      "2  Good-natured astronomer Sam is devastated when...    8.085194  ...   \n",
      "3  A mother's last wishes send twins Jeanne and S...    8.596012  ...   \n",
      "4  In 1972, a seemingly typical shoestring budget...    3.217680  ...   \n",
      "\n",
      "                                production_countries release_date runtime  \\\n",
      "0  [{'iso_3166_1': 'JP', 'name': 'Japan'}, {'iso_...      7/14/07    90.0   \n",
      "1  [{'iso_3166_1': 'US', 'name': 'United States o...      5/19/58    65.0   \n",
      "2  [{'iso_3166_1': 'US', 'name': 'United States o...      5/23/97   100.0   \n",
      "3  [{'iso_3166_1': 'CA', 'name': 'Canada'}, {'iso...       9/4/10   130.0   \n",
      "4  [{'iso_3166_1': 'US', 'name': 'United States o...      2/11/05    92.0   \n",
      "\n",
      "                                    spoken_languages    status  \\\n",
      "0  [{'iso_639_1': 'en', 'name': 'English'}, {'iso...  Released   \n",
      "1           [{'iso_639_1': 'en', 'name': 'English'}]  Released   \n",
      "2           [{'iso_639_1': 'en', 'name': 'English'}]  Released   \n",
      "3  [{'iso_639_1': 'fr', 'name': 'Français'}, {'is...  Released   \n",
      "4           [{'iso_639_1': 'en', 'name': 'English'}]  Released   \n",
      "\n",
      "                                             tagline  \\\n",
      "0  Somewhere Between Time & Space... A Legend Is ...   \n",
      "1  A titanic beauty spreads a macabre wave of hor...   \n",
      "2          A Comedy About Lost Loves And Last Laughs   \n",
      "3  The search began at the opening of their mothe...   \n",
      "4  It was filmed in 6 days for 25 thousand dollar...   \n",
      "\n",
      "                          title  \\\n",
      "0  Pokémon: The Rise of Darkrai   \n",
      "1   Attack of the 50 Foot Woman   \n",
      "2              Addicted to Love   \n",
      "3                     Incendies   \n",
      "4            Inside Deep Throat   \n",
      "\n",
      "                                            Keywords  \\\n",
      "0  [{'id': 11451, 'name': 'pok√©mon'}, {'id': 115...   \n",
      "1  [{'id': 9748, 'name': 'revenge'}, {'id': 9951,...   \n",
      "2  [{'id': 931, 'name': 'jealousy'}, {'id': 9673,...   \n",
      "3  [{'id': 378, 'name': 'prison'}, {'id': 539, 'n...   \n",
      "4  [{'id': 279, 'name': 'usa'}, {'id': 1228, 'nam...   \n",
      "\n",
      "                                                cast  \\\n",
      "0  [{'cast_id': 3, 'character': 'Tonio', 'credit_...   \n",
      "1  [{'cast_id': 2, 'character': 'Nancy Fowler Arc...   \n",
      "2  [{'cast_id': 11, 'character': 'Maggie', 'credi...   \n",
      "3  [{'cast_id': 6, 'character': 'Nawal', 'credit_...   \n",
      "4  [{'cast_id': 1, 'character': 'Narrator (voice)...   \n",
      "\n",
      "                                                crew  \n",
      "0  [{'credit_id': '52fe44e7c3a368484e03d683', 'de...  \n",
      "1  [{'credit_id': '55807805c3a3685b1300060b', 'de...  \n",
      "2  [{'credit_id': '52fe4330c3a36847f8041367', 'de...  \n",
      "3  [{'credit_id': '56478092c3a36826140043af', 'de...  \n",
      "4  [{'credit_id': '52fe44ce9251416c75041967', 'de...  \n",
      "\n",
      "[5 rows x 22 columns]\n"
     ]
    }
   ],
   "source": [
    "# read in data as df\n",
    "file = '/Users/Sue/Documents/2020_study/springboard/capstone_project2_movie/Dataset/tmdb-box-office-prediction/train.csv'\n",
    "file_test = '/Users/Sue/Documents/2020_study/springboard/capstone_project2_movie/Dataset/tmdb-box-office-prediction/test.csv'\n",
    "data = pd.read_csv(file_test)\n",
    "df = pd.DataFrame(data)\n",
    "print(df.head(5))"
   ]
  },
  {
   "cell_type": "markdown",
   "metadata": {},
   "source": []
  },
  {
   "cell_type": "code",
   "execution_count": 8,
   "metadata": {},
   "outputs": [],
   "source": [
    "#create subdirectory to save figures"
   ]
  },
  {
   "cell_type": "markdown",
   "metadata": {},
   "source": [
    "# Data Organization"
   ]
  },
  {
   "cell_type": "markdown",
   "metadata": {},
   "source": [
    "# Data Definition"
   ]
  },
  {
   "cell_type": "code",
   "execution_count": 9,
   "metadata": {},
   "outputs": [
    {
     "data": {
      "text/plain": [
       "Index(['id', 'belongs_to_collection', 'budget', 'genres', 'homepage',\n",
       "       'imdb_id', 'original_language', 'original_title', 'overview',\n",
       "       'popularity', 'poster_path', 'production_companies',\n",
       "       'production_countries', 'release_date', 'runtime', 'spoken_languages',\n",
       "       'status', 'tagline', 'title', 'Keywords', 'cast', 'crew'],\n",
       "      dtype='object')"
      ]
     },
     "execution_count": 9,
     "metadata": {},
     "output_type": "execute_result"
    }
   ],
   "source": [
    "#column names\n",
    "df.columns"
   ]
  },
  {
   "cell_type": "code",
   "execution_count": 10,
   "metadata": {},
   "outputs": [
    {
     "data": {
      "text/plain": [
       "id                         int64\n",
       "belongs_to_collection     object\n",
       "budget                     int64\n",
       "genres                    object\n",
       "homepage                  object\n",
       "imdb_id                   object\n",
       "original_language         object\n",
       "original_title            object\n",
       "overview                  object\n",
       "popularity               float64\n",
       "poster_path               object\n",
       "production_companies      object\n",
       "production_countries      object\n",
       "release_date              object\n",
       "runtime                  float64\n",
       "spoken_languages          object\n",
       "status                    object\n",
       "tagline                   object\n",
       "title                     object\n",
       "Keywords                  object\n",
       "cast                      object\n",
       "crew                      object\n",
       "dtype: object"
      ]
     },
     "execution_count": 10,
     "metadata": {},
     "output_type": "execute_result"
    }
   ],
   "source": [
    "#data type\n",
    "df.dtypes"
   ]
  },
  {
   "cell_type": "code",
   "execution_count": 11,
   "metadata": {},
   "outputs": [
    {
     "name": "stdout",
     "output_type": "stream",
     "text": [
      "<class 'pandas.core.frame.DataFrame'>\n",
      "RangeIndex: 4398 entries, 0 to 4397\n",
      "Data columns (total 22 columns):\n",
      " #   Column                 Non-Null Count  Dtype  \n",
      "---  ------                 --------------  -----  \n",
      " 0   id                     4398 non-null   int64  \n",
      " 1   belongs_to_collection  877 non-null    object \n",
      " 2   budget                 4398 non-null   int64  \n",
      " 3   genres                 4382 non-null   object \n",
      " 4   homepage               1420 non-null   object \n",
      " 5   imdb_id                4398 non-null   object \n",
      " 6   original_language      4398 non-null   object \n",
      " 7   original_title         4398 non-null   object \n",
      " 8   overview               4384 non-null   object \n",
      " 9   popularity             4398 non-null   float64\n",
      " 10  poster_path            4397 non-null   object \n",
      " 11  production_companies   4140 non-null   object \n",
      " 12  production_countries   4296 non-null   object \n",
      " 13  release_date           4397 non-null   object \n",
      " 14  runtime                4394 non-null   float64\n",
      " 15  spoken_languages       4356 non-null   object \n",
      " 16  status                 4396 non-null   object \n",
      " 17  tagline                3535 non-null   object \n",
      " 18  title                  4395 non-null   object \n",
      " 19  Keywords               4005 non-null   object \n",
      " 20  cast                   4385 non-null   object \n",
      " 21  crew                   4376 non-null   object \n",
      "dtypes: float64(2), int64(2), object(18)\n",
      "memory usage: 756.0+ KB\n"
     ]
    }
   ],
   "source": [
    "#info\n",
    "df.info()"
   ]
  },
  {
   "cell_type": "code",
   "execution_count": 12,
   "metadata": {},
   "outputs": [
    {
     "name": "stdout",
     "output_type": "stream",
     "text": [
      "id                          0\n",
      "belongs_to_collection    3521\n",
      "budget                      0\n",
      "genres                     16\n",
      "homepage                 2978\n",
      "imdb_id                     0\n",
      "original_language           0\n",
      "original_title              0\n",
      "overview                   14\n",
      "popularity                  0\n",
      "poster_path                 1\n",
      "production_companies      258\n",
      "production_countries      102\n",
      "release_date                1\n",
      "runtime                     4\n",
      "spoken_languages           42\n",
      "status                      2\n",
      "tagline                   863\n",
      "title                       3\n",
      "Keywords                  393\n",
      "cast                       13\n",
      "crew                       22\n",
      "dtype: int64\n"
     ]
    }
   ],
   "source": [
    "print(df.isna().sum())"
   ]
  },
  {
   "cell_type": "code",
   "execution_count": 13,
   "metadata": {},
   "outputs": [
    {
     "data": {
      "text/plain": [
       "id                       1.000000\n",
       "belongs_to_collection    0.633979\n",
       "budget                   0.116189\n",
       "genres                   0.251255\n",
       "homepage                 0.987324\n",
       "imdb_id                  1.000000\n",
       "original_language        0.008868\n",
       "original_title           0.989768\n",
       "overview                 0.999772\n",
       "popularity               1.000000\n",
       "poster_path              1.000000\n",
       "production_companies     0.813043\n",
       "production_countries     0.106611\n",
       "release_date             0.748010\n",
       "runtime                  0.035275\n",
       "spoken_languages         0.120753\n",
       "status                   0.000682\n",
       "tagline                  0.998303\n",
       "title                    0.987941\n",
       "Keywords                 0.970037\n",
       "cast                     0.995439\n",
       "crew                     1.000000\n",
       "dtype: float64"
      ]
     },
     "execution_count": 13,
     "metadata": {},
     "output_type": "execute_result"
    }
   ],
   "source": [
    "df.nunique()/df.count()"
   ]
  },
  {
   "cell_type": "code",
   "execution_count": 14,
   "metadata": {},
   "outputs": [
    {
     "name": "stdout",
     "output_type": "stream",
     "text": [
      "(0, 22)\n"
     ]
    }
   ],
   "source": [
    "#duplicate check\n",
    "duplicate_df = df[df.duplicated()]\n",
    "print(duplicate_df.shape)\n",
    "# there is no duplicate data"
   ]
  },
  {
   "cell_type": "code",
   "execution_count": 15,
   "metadata": {
    "scrolled": true
   },
   "outputs": [
    {
     "data": {
      "text/html": [
       "<div>\n",
       "<style scoped>\n",
       "    .dataframe tbody tr th:only-of-type {\n",
       "        vertical-align: middle;\n",
       "    }\n",
       "\n",
       "    .dataframe tbody tr th {\n",
       "        vertical-align: top;\n",
       "    }\n",
       "\n",
       "    .dataframe thead th {\n",
       "        text-align: right;\n",
       "    }\n",
       "</style>\n",
       "<table border=\"1\" class=\"dataframe\">\n",
       "  <thead>\n",
       "    <tr style=\"text-align: right;\">\n",
       "      <th></th>\n",
       "      <th>id</th>\n",
       "      <th>budget</th>\n",
       "      <th>popularity</th>\n",
       "      <th>runtime</th>\n",
       "    </tr>\n",
       "  </thead>\n",
       "  <tbody>\n",
       "    <tr>\n",
       "      <th>count</th>\n",
       "      <td>4398.000000</td>\n",
       "      <td>4.398000e+03</td>\n",
       "      <td>4398.000000</td>\n",
       "      <td>4394.000000</td>\n",
       "    </tr>\n",
       "    <tr>\n",
       "      <th>mean</th>\n",
       "      <td>5199.500000</td>\n",
       "      <td>2.264929e+07</td>\n",
       "      <td>8.550230</td>\n",
       "      <td>107.622212</td>\n",
       "    </tr>\n",
       "    <tr>\n",
       "      <th>std</th>\n",
       "      <td>1269.737571</td>\n",
       "      <td>3.689991e+07</td>\n",
       "      <td>12.209014</td>\n",
       "      <td>21.058290</td>\n",
       "    </tr>\n",
       "    <tr>\n",
       "      <th>min</th>\n",
       "      <td>3001.000000</td>\n",
       "      <td>0.000000e+00</td>\n",
       "      <td>0.000001</td>\n",
       "      <td>0.000000</td>\n",
       "    </tr>\n",
       "    <tr>\n",
       "      <th>25%</th>\n",
       "      <td>4100.250000</td>\n",
       "      <td>0.000000e+00</td>\n",
       "      <td>3.895186</td>\n",
       "      <td>94.000000</td>\n",
       "    </tr>\n",
       "    <tr>\n",
       "      <th>50%</th>\n",
       "      <td>5199.500000</td>\n",
       "      <td>7.450000e+06</td>\n",
       "      <td>7.482241</td>\n",
       "      <td>104.000000</td>\n",
       "    </tr>\n",
       "    <tr>\n",
       "      <th>75%</th>\n",
       "      <td>6298.750000</td>\n",
       "      <td>2.800000e+07</td>\n",
       "      <td>10.938524</td>\n",
       "      <td>118.000000</td>\n",
       "    </tr>\n",
       "    <tr>\n",
       "      <th>max</th>\n",
       "      <td>7398.000000</td>\n",
       "      <td>2.600000e+08</td>\n",
       "      <td>547.488298</td>\n",
       "      <td>320.000000</td>\n",
       "    </tr>\n",
       "  </tbody>\n",
       "</table>\n",
       "</div>"
      ],
      "text/plain": [
       "                id        budget   popularity      runtime\n",
       "count  4398.000000  4.398000e+03  4398.000000  4394.000000\n",
       "mean   5199.500000  2.264929e+07     8.550230   107.622212\n",
       "std    1269.737571  3.689991e+07    12.209014    21.058290\n",
       "min    3001.000000  0.000000e+00     0.000001     0.000000\n",
       "25%    4100.250000  0.000000e+00     3.895186    94.000000\n",
       "50%    5199.500000  7.450000e+06     7.482241   104.000000\n",
       "75%    6298.750000  2.800000e+07    10.938524   118.000000\n",
       "max    7398.000000  2.600000e+08   547.488298   320.000000"
      ]
     },
     "execution_count": 15,
     "metadata": {},
     "output_type": "execute_result"
    }
   ],
   "source": [
    "df.describe()"
   ]
  },
  {
   "cell_type": "markdown",
   "metadata": {},
   "source": [
    "# roadmap\n",
    "# what need to do with data\n",
    "1. drop columns:\n",
    "    id is duplicated to index, will drop it\n",
    "    belongs_to_collection and homepage columns have over 2/3 data missing, both columns content should be similar as overview or keywords, and it is difficult to fill up over 2/3 data with limited source, so will drop these two columns.\n",
    "2. fill in numericl NAN data\n",
    "    only 'runtime' has NAN, and only 2/3000 missing, will fill with average time.data type conversion:\n",
    "3. drop more columns:\n",
    "    imdb_id, which is identical id linked to imdb, which is not useful for this case study, will drop it\n",
    "    overview, the tagline and keyword has contained key info for movie analysis, this is duplicated\n",
    "4.  'release date' convert to datatime type\n"
   ]
  },
  {
   "cell_type": "markdown",
   "metadata": {},
   "source": [
    "# drop columns"
   ]
  },
  {
   "cell_type": "code",
   "execution_count": 16,
   "metadata": {},
   "outputs": [],
   "source": [
    "df = df.drop(['id','belongs_to_collection','homepage','imdb_id','overview'], axis = 1)"
   ]
  },
  {
   "cell_type": "code",
   "execution_count": 17,
   "metadata": {},
   "outputs": [
    {
     "data": {
      "text/plain": [
       "budget                                                                  0\n",
       "genres                  [{'id': 12, 'name': 'Adventure'}, {'id': 16, '...\n",
       "original_language                                                      ja\n",
       "original_title                                         ディアルガVSパルキアVSダークライ\n",
       "popularity                                                        3.85153\n",
       "poster_path                              /tnftmLMemPLduW6MRyZE0ZUD19z.jpg\n",
       "production_companies                                                  NaN\n",
       "production_countries    [{'iso_3166_1': 'JP', 'name': 'Japan'}, {'iso_...\n",
       "release_date                                                      7/14/07\n",
       "runtime                                                                90\n",
       "spoken_languages        [{'iso_639_1': 'en', 'name': 'English'}, {'iso...\n",
       "status                                                           Released\n",
       "tagline                 Somewhere Between Time & Space... A Legend Is ...\n",
       "title                                        Pokémon: The Rise of Darkrai\n",
       "Keywords                [{'id': 11451, 'name': 'pok√©mon'}, {'id': 115...\n",
       "cast                    [{'cast_id': 3, 'character': 'Tonio', 'credit_...\n",
       "crew                    [{'credit_id': '52fe44e7c3a368484e03d683', 'de...\n",
       "Name: 0, dtype: object"
      ]
     },
     "execution_count": 17,
     "metadata": {},
     "output_type": "execute_result"
    }
   ],
   "source": [
    "df.iloc[0]"
   ]
  },
  {
   "cell_type": "markdown",
   "metadata": {},
   "source": [
    "# check and fill numerical NAN"
   ]
  },
  {
   "cell_type": "code",
   "execution_count": 18,
   "metadata": {},
   "outputs": [
    {
     "data": {
      "text/html": [
       "<div>\n",
       "<style scoped>\n",
       "    .dataframe tbody tr th:only-of-type {\n",
       "        vertical-align: middle;\n",
       "    }\n",
       "\n",
       "    .dataframe tbody tr th {\n",
       "        vertical-align: top;\n",
       "    }\n",
       "\n",
       "    .dataframe thead th {\n",
       "        text-align: right;\n",
       "    }\n",
       "</style>\n",
       "<table border=\"1\" class=\"dataframe\">\n",
       "  <thead>\n",
       "    <tr style=\"text-align: right;\">\n",
       "      <th></th>\n",
       "      <th>percent</th>\n",
       "    </tr>\n",
       "  </thead>\n",
       "  <tbody>\n",
       "    <tr>\n",
       "      <th>tagline</th>\n",
       "      <td>0.196226</td>\n",
       "    </tr>\n",
       "    <tr>\n",
       "      <th>Keywords</th>\n",
       "      <td>0.089359</td>\n",
       "    </tr>\n",
       "    <tr>\n",
       "      <th>production_companies</th>\n",
       "      <td>0.058663</td>\n",
       "    </tr>\n",
       "    <tr>\n",
       "      <th>production_countries</th>\n",
       "      <td>0.023192</td>\n",
       "    </tr>\n",
       "    <tr>\n",
       "      <th>spoken_languages</th>\n",
       "      <td>0.009550</td>\n",
       "    </tr>\n",
       "    <tr>\n",
       "      <th>crew</th>\n",
       "      <td>0.005002</td>\n",
       "    </tr>\n",
       "    <tr>\n",
       "      <th>genres</th>\n",
       "      <td>0.003638</td>\n",
       "    </tr>\n",
       "    <tr>\n",
       "      <th>cast</th>\n",
       "      <td>0.002956</td>\n",
       "    </tr>\n",
       "    <tr>\n",
       "      <th>runtime</th>\n",
       "      <td>0.000910</td>\n",
       "    </tr>\n",
       "    <tr>\n",
       "      <th>title</th>\n",
       "      <td>0.000682</td>\n",
       "    </tr>\n",
       "    <tr>\n",
       "      <th>status</th>\n",
       "      <td>0.000455</td>\n",
       "    </tr>\n",
       "    <tr>\n",
       "      <th>release_date</th>\n",
       "      <td>0.000227</td>\n",
       "    </tr>\n",
       "    <tr>\n",
       "      <th>poster_path</th>\n",
       "      <td>0.000227</td>\n",
       "    </tr>\n",
       "  </tbody>\n",
       "</table>\n",
       "</div>"
      ],
      "text/plain": [
       "                       percent\n",
       "tagline               0.196226\n",
       "Keywords              0.089359\n",
       "production_companies  0.058663\n",
       "production_countries  0.023192\n",
       "spoken_languages      0.009550\n",
       "crew                  0.005002\n",
       "genres                0.003638\n",
       "cast                  0.002956\n",
       "runtime               0.000910\n",
       "title                 0.000682\n",
       "status                0.000455\n",
       "release_date          0.000227\n",
       "poster_path           0.000227"
      ]
     },
     "execution_count": 18,
     "metadata": {},
     "output_type": "execute_result"
    }
   ],
   "source": [
    "nas=pd.DataFrame(df.isnull().sum().sort_values(ascending=False)/len(df),columns = ['percent'])\n",
    "pos = nas['percent'] > 0\n",
    "nas[pos]"
   ]
  },
  {
   "cell_type": "code",
   "execution_count": 19,
   "metadata": {},
   "outputs": [],
   "source": [
    "# fill in zero for null runtime, then all numerical data are ready\n",
    "df['runtime'] = df['runtime'].fillna(value = 0)"
   ]
  },
  {
   "cell_type": "code",
   "execution_count": 20,
   "metadata": {
    "scrolled": false
   },
   "outputs": [
    {
     "name": "stdout",
     "output_type": "stream",
     "text": [
      "<class 'pandas.core.frame.DataFrame'>\n",
      "RangeIndex: 4398 entries, 0 to 4397\n",
      "Data columns (total 17 columns):\n",
      " #   Column                Non-Null Count  Dtype  \n",
      "---  ------                --------------  -----  \n",
      " 0   budget                4398 non-null   int64  \n",
      " 1   genres                4382 non-null   object \n",
      " 2   original_language     4398 non-null   object \n",
      " 3   original_title        4398 non-null   object \n",
      " 4   popularity            4398 non-null   float64\n",
      " 5   poster_path           4397 non-null   object \n",
      " 6   production_companies  4140 non-null   object \n",
      " 7   production_countries  4296 non-null   object \n",
      " 8   release_date          4397 non-null   object \n",
      " 9   runtime               4398 non-null   float64\n",
      " 10  spoken_languages      4356 non-null   object \n",
      " 11  status                4396 non-null   object \n",
      " 12  tagline               3535 non-null   object \n",
      " 13  title                 4395 non-null   object \n",
      " 14  Keywords              4005 non-null   object \n",
      " 15  cast                  4385 non-null   object \n",
      " 16  crew                  4376 non-null   object \n",
      "dtypes: float64(2), int64(1), object(14)\n",
      "memory usage: 584.2+ KB\n"
     ]
    }
   ],
   "source": [
    "df.info()"
   ]
  },
  {
   "cell_type": "code",
   "execution_count": 21,
   "metadata": {},
   "outputs": [],
   "source": [
    "#convert release time to datatime\n",
    "#leave all others to feature engineering"
   ]
  },
  {
   "cell_type": "code",
   "execution_count": 22,
   "metadata": {},
   "outputs": [],
   "source": [
    "df.to_csv('/Users/Sue/Documents/2020_study/springboard/capstone_project2_movie/Dataset/tmdb-box-office-prediction/0721wragling_test_t1.csv',index = False)"
   ]
  },
  {
   "cell_type": "code",
   "execution_count": 23,
   "metadata": {},
   "outputs": [],
   "source": [
    "# define get_dictioinary function to achieve dictionary from lists\n",
    "def get_dictionary(s):\n",
    "    try:\n",
    "        d = eval(s)\n",
    "    except:\n",
    "        d = {}\n",
    "    return d"
   ]
  },
  {
   "cell_type": "code",
   "execution_count": 24,
   "metadata": {},
   "outputs": [],
   "source": [
    "# clean up 3 columns including keywords\n",
    "df_train = df\n",
    "list_process = ['genres','production_companies','production_countries','Keywords']\n",
    "list_process2 = ['spoken_languages']\n",
    "for i in list_process:\n",
    "    df_train[i] = df_train[i].map(lambda x: sorted([d['name'] for d in get_dictionary(x)])).map(lambda x: ','.join(map(str, x)))\n",
    "    #gi = df_train[i].str.get_dummies(sep=',')\n",
    "    #df_train = pd.concat([df_train, gi], axis=1, sort=False)\n",
    "for i in list_process2:\n",
    "    df_train[i] = df_train[i].map(lambda x: sorted([d['iso_639_1'] for d in get_dictionary(x)])).map(lambda x: ','.join(map(str, x)))\n",
    "    #gi = df_train[i].str.get_dummies(sep=',')\n",
    "    #df_train = pd.concat([df_train, gi], axis=1, sort=False)"
   ]
  },
  {
   "cell_type": "code",
   "execution_count": 25,
   "metadata": {},
   "outputs": [],
   "source": [
    "# clean up column genres\n",
    "#df_train['genres'] = df_train['genres'].map(lambda x: sorted([d['name'] for d in get_dictionary(x)])).map(lambda x: ','.join(map(str, x)))\n",
    "#genres_split = df_train['genres'].str.get_dummies(sep=',')\n",
    "#df_train = pd.concat([df_train, genres_split], axis=1, sort=False)"
   ]
  },
  {
   "cell_type": "code",
   "execution_count": 26,
   "metadata": {},
   "outputs": [],
   "source": [
    "#df_train.head(5)"
   ]
  },
  {
   "cell_type": "markdown",
   "metadata": {},
   "source": [
    "# release date convert to datetime datatype"
   ]
  },
  {
   "cell_type": "code",
   "execution_count": 27,
   "metadata": {},
   "outputs": [
    {
     "data": {
      "text/plain": [
       "dtype('O')"
      ]
     },
     "execution_count": 27,
     "metadata": {},
     "output_type": "execute_result"
    }
   ],
   "source": [
    "df_train['release_date'].dtype"
   ]
  },
  {
   "cell_type": "code",
   "execution_count": 28,
   "metadata": {},
   "outputs": [],
   "source": [
    "df_train['release_date']=pd.to_datetime(df_train['release_date'])"
   ]
  },
  {
   "cell_type": "code",
   "execution_count": 29,
   "metadata": {},
   "outputs": [
    {
     "data": {
      "text/plain": [
       "Timestamp('2007-07-14 00:00:00')"
      ]
     },
     "execution_count": 29,
     "metadata": {},
     "output_type": "execute_result"
    }
   ],
   "source": [
    "df_train['release_date'][0]"
   ]
  },
  {
   "cell_type": "code",
   "execution_count": 30,
   "metadata": {},
   "outputs": [
    {
     "data": {
      "text/html": [
       "<div>\n",
       "<style scoped>\n",
       "    .dataframe tbody tr th:only-of-type {\n",
       "        vertical-align: middle;\n",
       "    }\n",
       "\n",
       "    .dataframe tbody tr th {\n",
       "        vertical-align: top;\n",
       "    }\n",
       "\n",
       "    .dataframe thead th {\n",
       "        text-align: right;\n",
       "    }\n",
       "</style>\n",
       "<table border=\"1\" class=\"dataframe\">\n",
       "  <thead>\n",
       "    <tr style=\"text-align: right;\">\n",
       "      <th></th>\n",
       "      <th>budget</th>\n",
       "      <th>genres</th>\n",
       "      <th>original_language</th>\n",
       "      <th>original_title</th>\n",
       "      <th>popularity</th>\n",
       "      <th>poster_path</th>\n",
       "      <th>production_companies</th>\n",
       "      <th>production_countries</th>\n",
       "      <th>release_date</th>\n",
       "      <th>runtime</th>\n",
       "      <th>spoken_languages</th>\n",
       "      <th>status</th>\n",
       "      <th>tagline</th>\n",
       "      <th>title</th>\n",
       "      <th>Keywords</th>\n",
       "      <th>cast</th>\n",
       "      <th>crew</th>\n",
       "    </tr>\n",
       "  </thead>\n",
       "  <tbody>\n",
       "    <tr>\n",
       "      <th>0</th>\n",
       "      <td>0</td>\n",
       "      <td>Adventure,Animation,Family,Fantasy</td>\n",
       "      <td>ja</td>\n",
       "      <td>ディアルガVSパルキアVSダークライ</td>\n",
       "      <td>3.851534</td>\n",
       "      <td>/tnftmLMemPLduW6MRyZE0ZUD19z.jpg</td>\n",
       "      <td></td>\n",
       "      <td>Japan,United States of America</td>\n",
       "      <td>2007-07-14</td>\n",
       "      <td>90.0</td>\n",
       "      <td>en,ja</td>\n",
       "      <td>Released</td>\n",
       "      <td>Somewhere Between Time &amp; Space... A Legend Is ...</td>\n",
       "      <td>Pokémon: The Rise of Darkrai</td>\n",
       "      <td>pocket monsters,pok√©mon</td>\n",
       "      <td>[{'cast_id': 3, 'character': 'Tonio', 'credit_...</td>\n",
       "      <td>[{'credit_id': '52fe44e7c3a368484e03d683', 'de...</td>\n",
       "    </tr>\n",
       "    <tr>\n",
       "      <th>1</th>\n",
       "      <td>88000</td>\n",
       "      <td>Horror,Science Fiction</td>\n",
       "      <td>en</td>\n",
       "      <td>Attack of the 50 Foot Woman</td>\n",
       "      <td>3.559789</td>\n",
       "      <td>/9MgBNBqlH1sG4yG2u4XkwI5CoJa.jpg</td>\n",
       "      <td>Woolner Brothers Pictures Inc.</td>\n",
       "      <td>United States of America</td>\n",
       "      <td>2058-05-19</td>\n",
       "      <td>65.0</td>\n",
       "      <td>en</td>\n",
       "      <td>Released</td>\n",
       "      <td>A titanic beauty spreads a macabre wave of hor...</td>\n",
       "      <td>Attack of the 50 Foot Woman</td>\n",
       "      <td>alien,b movie,cheating husband,chrysler imperi...</td>\n",
       "      <td>[{'cast_id': 2, 'character': 'Nancy Fowler Arc...</td>\n",
       "      <td>[{'credit_id': '55807805c3a3685b1300060b', 'de...</td>\n",
       "    </tr>\n",
       "    <tr>\n",
       "      <th>2</th>\n",
       "      <td>0</td>\n",
       "      <td>Comedy,Romance</td>\n",
       "      <td>en</td>\n",
       "      <td>Addicted to Love</td>\n",
       "      <td>8.085194</td>\n",
       "      <td>/ed6nD7h9sbojSWY2qrnDcSvDFko.jpg</td>\n",
       "      <td>Miramax,Outlaw Productions (I),Warner Bros.</td>\n",
       "      <td>United States of America</td>\n",
       "      <td>1997-05-23</td>\n",
       "      <td>100.0</td>\n",
       "      <td>en</td>\n",
       "      <td>Released</td>\n",
       "      <td>A Comedy About Lost Loves And Last Laughs</td>\n",
       "      <td>Addicted to Love</td>\n",
       "      <td>break-up,jealousy,love,revenge</td>\n",
       "      <td>[{'cast_id': 11, 'character': 'Maggie', 'credi...</td>\n",
       "      <td>[{'credit_id': '52fe4330c3a36847f8041367', 'de...</td>\n",
       "    </tr>\n",
       "    <tr>\n",
       "      <th>3</th>\n",
       "      <td>6800000</td>\n",
       "      <td>Drama,Mystery,War</td>\n",
       "      <td>fr</td>\n",
       "      <td>Incendies</td>\n",
       "      <td>8.596012</td>\n",
       "      <td>/sEUG3qjxwHjxkzuO7plrRHhOZUH.jpg</td>\n",
       "      <td>Micro scope,Phi Group,TS Productions</td>\n",
       "      <td>Canada,France</td>\n",
       "      <td>2010-09-04</td>\n",
       "      <td>130.0</td>\n",
       "      <td>ar,en,fr</td>\n",
       "      <td>Released</td>\n",
       "      <td>The search began at the opening of their mothe...</td>\n",
       "      <td>Incendies</td>\n",
       "      <td>checkpoint,christian,interpreter,massacre,midd...</td>\n",
       "      <td>[{'cast_id': 6, 'character': 'Nawal', 'credit_...</td>\n",
       "      <td>[{'credit_id': '56478092c3a36826140043af', 'de...</td>\n",
       "    </tr>\n",
       "    <tr>\n",
       "      <th>4</th>\n",
       "      <td>2000000</td>\n",
       "      <td>Documentary,History</td>\n",
       "      <td>en</td>\n",
       "      <td>Inside Deep Throat</td>\n",
       "      <td>3.217680</td>\n",
       "      <td>/n4WC3zbelz6SG7rhkWbf8m9pMHB.jpg</td>\n",
       "      <td></td>\n",
       "      <td>United States of America</td>\n",
       "      <td>2005-02-11</td>\n",
       "      <td>92.0</td>\n",
       "      <td>en</td>\n",
       "      <td>Released</td>\n",
       "      <td>It was filmed in 6 days for 25 thousand dollar...</td>\n",
       "      <td>Inside Deep Throat</td>\n",
       "      <td>1970s,sexual revolution,unsimulated sex,usa</td>\n",
       "      <td>[{'cast_id': 1, 'character': 'Narrator (voice)...</td>\n",
       "      <td>[{'credit_id': '52fe44ce9251416c75041967', 'de...</td>\n",
       "    </tr>\n",
       "  </tbody>\n",
       "</table>\n",
       "</div>"
      ],
      "text/plain": [
       "    budget                              genres original_language  \\\n",
       "0        0  Adventure,Animation,Family,Fantasy                ja   \n",
       "1    88000              Horror,Science Fiction                en   \n",
       "2        0                      Comedy,Romance                en   \n",
       "3  6800000                   Drama,Mystery,War                fr   \n",
       "4  2000000                 Documentary,History                en   \n",
       "\n",
       "                original_title  popularity                       poster_path  \\\n",
       "0           ディアルガVSパルキアVSダークライ    3.851534  /tnftmLMemPLduW6MRyZE0ZUD19z.jpg   \n",
       "1  Attack of the 50 Foot Woman    3.559789  /9MgBNBqlH1sG4yG2u4XkwI5CoJa.jpg   \n",
       "2             Addicted to Love    8.085194  /ed6nD7h9sbojSWY2qrnDcSvDFko.jpg   \n",
       "3                    Incendies    8.596012  /sEUG3qjxwHjxkzuO7plrRHhOZUH.jpg   \n",
       "4           Inside Deep Throat    3.217680  /n4WC3zbelz6SG7rhkWbf8m9pMHB.jpg   \n",
       "\n",
       "                          production_companies  \\\n",
       "0                                                \n",
       "1               Woolner Brothers Pictures Inc.   \n",
       "2  Miramax,Outlaw Productions (I),Warner Bros.   \n",
       "3         Micro scope,Phi Group,TS Productions   \n",
       "4                                                \n",
       "\n",
       "             production_countries release_date  runtime spoken_languages  \\\n",
       "0  Japan,United States of America   2007-07-14     90.0            en,ja   \n",
       "1        United States of America   2058-05-19     65.0               en   \n",
       "2        United States of America   1997-05-23    100.0               en   \n",
       "3                   Canada,France   2010-09-04    130.0         ar,en,fr   \n",
       "4        United States of America   2005-02-11     92.0               en   \n",
       "\n",
       "     status                                            tagline  \\\n",
       "0  Released  Somewhere Between Time & Space... A Legend Is ...   \n",
       "1  Released  A titanic beauty spreads a macabre wave of hor...   \n",
       "2  Released          A Comedy About Lost Loves And Last Laughs   \n",
       "3  Released  The search began at the opening of their mothe...   \n",
       "4  Released  It was filmed in 6 days for 25 thousand dollar...   \n",
       "\n",
       "                          title  \\\n",
       "0  Pokémon: The Rise of Darkrai   \n",
       "1   Attack of the 50 Foot Woman   \n",
       "2              Addicted to Love   \n",
       "3                     Incendies   \n",
       "4            Inside Deep Throat   \n",
       "\n",
       "                                            Keywords  \\\n",
       "0                           pocket monsters,pok√©mon   \n",
       "1  alien,b movie,cheating husband,chrysler imperi...   \n",
       "2                     break-up,jealousy,love,revenge   \n",
       "3  checkpoint,christian,interpreter,massacre,midd...   \n",
       "4        1970s,sexual revolution,unsimulated sex,usa   \n",
       "\n",
       "                                                cast  \\\n",
       "0  [{'cast_id': 3, 'character': 'Tonio', 'credit_...   \n",
       "1  [{'cast_id': 2, 'character': 'Nancy Fowler Arc...   \n",
       "2  [{'cast_id': 11, 'character': 'Maggie', 'credi...   \n",
       "3  [{'cast_id': 6, 'character': 'Nawal', 'credit_...   \n",
       "4  [{'cast_id': 1, 'character': 'Narrator (voice)...   \n",
       "\n",
       "                                                crew  \n",
       "0  [{'credit_id': '52fe44e7c3a368484e03d683', 'de...  \n",
       "1  [{'credit_id': '55807805c3a3685b1300060b', 'de...  \n",
       "2  [{'credit_id': '52fe4330c3a36847f8041367', 'de...  \n",
       "3  [{'credit_id': '56478092c3a36826140043af', 'de...  \n",
       "4  [{'credit_id': '52fe44ce9251416c75041967', 'de...  "
      ]
     },
     "execution_count": 30,
     "metadata": {},
     "output_type": "execute_result"
    }
   ],
   "source": [
    "df_train.head(5)"
   ]
  },
  {
   "cell_type": "code",
   "execution_count": 31,
   "metadata": {},
   "outputs": [],
   "source": [
    "df_train.to_csv('/Users/Sue/Documents/2020_study/springboard/capstone_project2_movie/Dataset/tmdb-box-office-prediction/0721wragling_test_t2.csv',index = False)"
   ]
  },
  {
   "cell_type": "code",
   "execution_count": null,
   "metadata": {},
   "outputs": [],
   "source": []
  }
 ],
 "metadata": {
  "kernelspec": {
   "display_name": "Python 3",
   "language": "python",
   "name": "python3"
  },
  "language_info": {
   "codemirror_mode": {
    "name": "ipython",
    "version": 3
   },
   "file_extension": ".py",
   "mimetype": "text/x-python",
   "name": "python",
   "nbconvert_exporter": "python",
   "pygments_lexer": "ipython3",
   "version": "3.7.6"
  }
 },
 "nbformat": 4,
 "nbformat_minor": 4
}
